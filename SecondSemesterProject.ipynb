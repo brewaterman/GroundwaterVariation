{
 "cells": [
  {
   "cell_type": "markdown",
   "metadata": {},
   "source": [
    "### Visualizing Groundwater Variation Across KS\n",
    "\n",
    "**Name**: Bre Waterman <br/>\n",
    "**Semester**: Spring 2019 <br/>\n",
    "**Project area**: Hydrogeology\n",
    "\n",
    "## Objectives & Outcomes\n",
    "The goal is to construct code using python that will calculate the average water level depth over time for an individual well, and apply this code to calculate the water level averages to other wells located across the Kansas precipitation gradient to understand and quantify changes in groundwater levels over time. The code should be able to process txt files extracted from USGS, calculate averages of groundwater levels for other wells. After visually representing the change over time for one well, the next step is to create a plot with different wells, using longitude as x-axis, in order to show the variation in groundwater levels from select locations across KS where my research will be conducted (shallow alluvial aquifers for in/near Lawrence KS, Manhattan/Riley KS, and Hays).\n",
    "\n",
    "## Background\n",
    "In an agriculturally driven state such as Kansas, water availability is invaluable to the sustainability and growth of both the population and economy. The research for my thesis specifically aims to characterize the variation of water availability and quality across the Kansas aridity gradient. Calculating the water level averages of wells across Kansas would be beneficial towards understanding variation in groundwater levels over time, influence on surface water and potentially give insight on future availabilty trends as well as find relationships between precipitation."
   ]
  },
  {
   "cell_type": "markdown",
   "metadata": {},
   "source": [
    "#### Import cell"
   ]
  },
  {
   "cell_type": "code",
   "execution_count": 1,
   "metadata": {},
   "outputs": [],
   "source": [
    "import numpy as np\n",
    "import pandas as pd\n",
    "import matplotlib.pyplot as plt\n",
    "%matplotlib inline"
   ]
  },
  {
   "cell_type": "markdown",
   "metadata": {},
   "source": [
    "#### Cells to import data & handle extra/unneccesary rows"
   ]
  },
  {
   "cell_type": "code",
   "execution_count": 2,
   "metadata": {},
   "outputs": [
    {
     "data": {
      "text/html": [
       "<div>\n",
       "<style scoped>\n",
       "    .dataframe tbody tr th:only-of-type {\n",
       "        vertical-align: middle;\n",
       "    }\n",
       "\n",
       "    .dataframe tbody tr th {\n",
       "        vertical-align: top;\n",
       "    }\n",
       "\n",
       "    .dataframe thead th {\n",
       "        text-align: right;\n",
       "    }\n",
       "</style>\n",
       "<table border=\"1\" class=\"dataframe\">\n",
       "  <thead>\n",
       "    <tr style=\"text-align: right;\">\n",
       "      <th></th>\n",
       "      <th>agency_cd</th>\n",
       "      <th>site_no</th>\n",
       "      <th>site_tp_cd</th>\n",
       "      <th>lev_dt</th>\n",
       "      <th>lev_tm</th>\n",
       "      <th>lev_tz_cd</th>\n",
       "      <th>lev_va</th>\n",
       "      <th>sl_lev_va</th>\n",
       "      <th>sl_datum_cd</th>\n",
       "      <th>lev_status_cd</th>\n",
       "      <th>lev_agency_cd</th>\n",
       "      <th>lev_dt_acy_cd</th>\n",
       "      <th>lev_acy_cd</th>\n",
       "      <th>lev_src_cd</th>\n",
       "      <th>lev_meth_cd</th>\n",
       "      <th>lev_age_cd</th>\n",
       "    </tr>\n",
       "  </thead>\n",
       "  <tbody>\n",
       "    <tr>\n",
       "      <th>0</th>\n",
       "      <td>5s</td>\n",
       "      <td>15s</td>\n",
       "      <td>6s</td>\n",
       "      <td>10d</td>\n",
       "      <td>5d</td>\n",
       "      <td>5s</td>\n",
       "      <td>12s</td>\n",
       "      <td>12s</td>\n",
       "      <td>10s</td>\n",
       "      <td>1s</td>\n",
       "      <td>5s</td>\n",
       "      <td>1s</td>\n",
       "      <td>1s</td>\n",
       "      <td>1s</td>\n",
       "      <td>1s</td>\n",
       "      <td>1s</td>\n",
       "    </tr>\n",
       "    <tr>\n",
       "      <th>1</th>\n",
       "      <td>USGS</td>\n",
       "      <td>390006095132301</td>\n",
       "      <td>GW</td>\n",
       "      <td>1999-01-05</td>\n",
       "      <td>NaN</td>\n",
       "      <td>NaN</td>\n",
       "      <td>NaN</td>\n",
       "      <td>814.50</td>\n",
       "      <td>NGVD29</td>\n",
       "      <td>NaN</td>\n",
       "      <td>USGS</td>\n",
       "      <td>D</td>\n",
       "      <td>2</td>\n",
       "      <td>S</td>\n",
       "      <td>S</td>\n",
       "      <td>A</td>\n",
       "    </tr>\n",
       "  </tbody>\n",
       "</table>\n",
       "</div>"
      ],
      "text/plain": [
       "  agency_cd          site_no site_tp_cd      lev_dt lev_tm lev_tz_cd lev_va  \\\n",
       "0        5s              15s         6s         10d     5d        5s    12s   \n",
       "1      USGS  390006095132301         GW  1999-01-05    NaN       NaN    NaN   \n",
       "\n",
       "  sl_lev_va sl_datum_cd lev_status_cd lev_agency_cd lev_dt_acy_cd lev_acy_cd  \\\n",
       "0       12s         10s            1s            5s            1s         1s   \n",
       "1    814.50      NGVD29           NaN          USGS             D          2   \n",
       "\n",
       "  lev_src_cd lev_meth_cd lev_age_cd  \n",
       "0         1s          1s         1s  \n",
       "1          S           S          A  "
      ]
     },
     "execution_count": 2,
     "metadata": {},
     "output_type": "execute_result"
    }
   ],
   "source": [
    "data = \"/Users/brewaterman/Desktop/GroundwaterVariation/gwlevels\"\n",
    "df = pd.read_csv(data, sep = \"\\t\", comment = \"#\")\n",
    "df.head(2)"
   ]
  },
  {
   "cell_type": "code",
   "execution_count": 3,
   "metadata": {},
   "outputs": [
    {
     "data": {
      "text/html": [
       "<div>\n",
       "<style scoped>\n",
       "    .dataframe tbody tr th:only-of-type {\n",
       "        vertical-align: middle;\n",
       "    }\n",
       "\n",
       "    .dataframe tbody tr th {\n",
       "        vertical-align: top;\n",
       "    }\n",
       "\n",
       "    .dataframe thead th {\n",
       "        text-align: right;\n",
       "    }\n",
       "</style>\n",
       "<table border=\"1\" class=\"dataframe\">\n",
       "  <thead>\n",
       "    <tr style=\"text-align: right;\">\n",
       "      <th></th>\n",
       "      <th>site_no</th>\n",
       "      <th>lev_dt</th>\n",
       "      <th>sl_lev_va</th>\n",
       "      <th>sl_datum_cd</th>\n",
       "    </tr>\n",
       "  </thead>\n",
       "  <tbody>\n",
       "    <tr>\n",
       "      <th>1</th>\n",
       "      <td>390006095132301</td>\n",
       "      <td>1999-01-05</td>\n",
       "      <td>814.50</td>\n",
       "      <td>NGVD29</td>\n",
       "    </tr>\n",
       "    <tr>\n",
       "      <th>2</th>\n",
       "      <td>390006095132301</td>\n",
       "      <td>1999-01-10</td>\n",
       "      <td>814.33</td>\n",
       "      <td>NGVD29</td>\n",
       "    </tr>\n",
       "    <tr>\n",
       "      <th>3</th>\n",
       "      <td>390006095132301</td>\n",
       "      <td>1999-01-15</td>\n",
       "      <td>814.20</td>\n",
       "      <td>NGVD29</td>\n",
       "    </tr>\n",
       "    <tr>\n",
       "      <th>4</th>\n",
       "      <td>390006095132301</td>\n",
       "      <td>1999-01-20</td>\n",
       "      <td>814.11</td>\n",
       "      <td>NGVD29</td>\n",
       "    </tr>\n",
       "    <tr>\n",
       "      <th>5</th>\n",
       "      <td>390006095132301</td>\n",
       "      <td>1999-01-25</td>\n",
       "      <td>813.95</td>\n",
       "      <td>NGVD29</td>\n",
       "    </tr>\n",
       "  </tbody>\n",
       "</table>\n",
       "</div>"
      ],
      "text/plain": [
       "           site_no      lev_dt sl_lev_va sl_datum_cd\n",
       "1  390006095132301  1999-01-05    814.50      NGVD29\n",
       "2  390006095132301  1999-01-10    814.33      NGVD29\n",
       "3  390006095132301  1999-01-15    814.20      NGVD29\n",
       "4  390006095132301  1999-01-20    814.11      NGVD29\n",
       "5  390006095132301  1999-01-25    813.95      NGVD29"
      ]
     },
     "execution_count": 3,
     "metadata": {},
     "output_type": "execute_result"
    }
   ],
   "source": [
    "datawith0 = df[[\"site_no\", \"lev_dt\", \"sl_lev_va\", \"sl_datum_cd\"]]\n",
    "wellData = datawith0.drop(0)\n",
    "wellData.head(5)"
   ]
  },
  {
   "cell_type": "code",
   "execution_count": 4,
   "metadata": {},
   "outputs": [
    {
     "name": "stdout",
     "output_type": "stream",
     "text": [
      "<class 'pandas.core.frame.DataFrame'>\n",
      "Int64Index: 253 entries, 1 to 253\n",
      "Data columns (total 4 columns):\n",
      "site_no        253 non-null object\n",
      "lev_dt         253 non-null object\n",
      "sl_lev_va      253 non-null object\n",
      "sl_datum_cd    253 non-null object\n",
      "dtypes: object(4)\n",
      "memory usage: 9.9+ KB\n"
     ]
    }
   ],
   "source": [
    "#need to convert data types from objects to float/datetime\n",
    "wellData.info() "
   ]
  },
  {
   "cell_type": "markdown",
   "metadata": {},
   "source": [
    "#### Convert data to float "
   ]
  },
  {
   "cell_type": "code",
   "execution_count": 5,
   "metadata": {},
   "outputs": [],
   "source": [
    "wellData = wellData.astype({\"sl_lev_va\": float})"
   ]
  },
  {
   "cell_type": "markdown",
   "metadata": {},
   "source": [
    "#### Changing lev_dt (dates of gw levels) to years using pd.to_datetime "
   ]
  },
  {
   "cell_type": "code",
   "execution_count": 6,
   "metadata": {},
   "outputs": [
    {
     "data": {
      "text/html": [
       "<div>\n",
       "<style scoped>\n",
       "    .dataframe tbody tr th:only-of-type {\n",
       "        vertical-align: middle;\n",
       "    }\n",
       "\n",
       "    .dataframe tbody tr th {\n",
       "        vertical-align: top;\n",
       "    }\n",
       "\n",
       "    .dataframe thead th {\n",
       "        text-align: right;\n",
       "    }\n",
       "</style>\n",
       "<table border=\"1\" class=\"dataframe\">\n",
       "  <thead>\n",
       "    <tr style=\"text-align: right;\">\n",
       "      <th></th>\n",
       "      <th>site_no</th>\n",
       "      <th>lev_dt</th>\n",
       "      <th>sl_lev_va</th>\n",
       "      <th>sl_datum_cd</th>\n",
       "      <th>Years</th>\n",
       "    </tr>\n",
       "  </thead>\n",
       "  <tbody>\n",
       "    <tr>\n",
       "      <th>1</th>\n",
       "      <td>390006095132301</td>\n",
       "      <td>1999-01-05</td>\n",
       "      <td>814.50</td>\n",
       "      <td>NGVD29</td>\n",
       "      <td>1999</td>\n",
       "    </tr>\n",
       "    <tr>\n",
       "      <th>2</th>\n",
       "      <td>390006095132301</td>\n",
       "      <td>1999-01-10</td>\n",
       "      <td>814.33</td>\n",
       "      <td>NGVD29</td>\n",
       "      <td>1999</td>\n",
       "    </tr>\n",
       "    <tr>\n",
       "      <th>3</th>\n",
       "      <td>390006095132301</td>\n",
       "      <td>1999-01-15</td>\n",
       "      <td>814.20</td>\n",
       "      <td>NGVD29</td>\n",
       "      <td>1999</td>\n",
       "    </tr>\n",
       "    <tr>\n",
       "      <th>4</th>\n",
       "      <td>390006095132301</td>\n",
       "      <td>1999-01-20</td>\n",
       "      <td>814.11</td>\n",
       "      <td>NGVD29</td>\n",
       "      <td>1999</td>\n",
       "    </tr>\n",
       "    <tr>\n",
       "      <th>5</th>\n",
       "      <td>390006095132301</td>\n",
       "      <td>1999-01-25</td>\n",
       "      <td>813.95</td>\n",
       "      <td>NGVD29</td>\n",
       "      <td>1999</td>\n",
       "    </tr>\n",
       "  </tbody>\n",
       "</table>\n",
       "</div>"
      ],
      "text/plain": [
       "           site_no      lev_dt  sl_lev_va sl_datum_cd  Years\n",
       "1  390006095132301  1999-01-05     814.50      NGVD29   1999\n",
       "2  390006095132301  1999-01-10     814.33      NGVD29   1999\n",
       "3  390006095132301  1999-01-15     814.20      NGVD29   1999\n",
       "4  390006095132301  1999-01-20     814.11      NGVD29   1999\n",
       "5  390006095132301  1999-01-25     813.95      NGVD29   1999"
      ]
     },
     "execution_count": 6,
     "metadata": {},
     "output_type": "execute_result"
    }
   ],
   "source": [
    "dates = pd.to_datetime(wellData[\"lev_dt\"])\n",
    "years = dates.dt.year\n",
    "\n",
    "#adding transformed data as a column back into df\n",
    "wellData[\"Years\"] = years\n",
    "wellData.head()"
   ]
  },
  {
   "cell_type": "code",
   "execution_count": 7,
   "metadata": {},
   "outputs": [
    {
     "name": "stdout",
     "output_type": "stream",
     "text": [
      "<class 'pandas.core.frame.DataFrame'>\n",
      "Int64Index: 253 entries, 1 to 253\n",
      "Data columns (total 5 columns):\n",
      "site_no        253 non-null object\n",
      "lev_dt         253 non-null object\n",
      "sl_lev_va      253 non-null float64\n",
      "sl_datum_cd    253 non-null object\n",
      "Years          253 non-null int64\n",
      "dtypes: float64(1), int64(1), object(3)\n",
      "memory usage: 11.9+ KB\n"
     ]
    }
   ],
   "source": [
    "#data types are in proper format now\n",
    "wellData.info()"
   ]
  },
  {
   "cell_type": "code",
   "execution_count": 8,
   "metadata": {},
   "outputs": [
    {
     "data": {
      "text/plain": [
       "17"
      ]
     },
     "execution_count": 8,
     "metadata": {},
     "output_type": "execute_result"
    }
   ],
   "source": [
    "#number of years active for well\n",
    "yearsactive = years.unique()\n",
    "yearsactive.size"
   ]
  },
  {
   "cell_type": "markdown",
   "metadata": {},
   "source": [
    "### Basic stats of data set "
   ]
  },
  {
   "cell_type": "code",
   "execution_count": 9,
   "metadata": {},
   "outputs": [
    {
     "data": {
      "text/html": [
       "<div>\n",
       "<style scoped>\n",
       "    .dataframe tbody tr th:only-of-type {\n",
       "        vertical-align: middle;\n",
       "    }\n",
       "\n",
       "    .dataframe tbody tr th {\n",
       "        vertical-align: top;\n",
       "    }\n",
       "\n",
       "    .dataframe thead tr th {\n",
       "        text-align: left;\n",
       "    }\n",
       "\n",
       "    .dataframe thead tr:last-of-type th {\n",
       "        text-align: right;\n",
       "    }\n",
       "</style>\n",
       "<table border=\"1\" class=\"dataframe\">\n",
       "  <thead>\n",
       "    <tr>\n",
       "      <th></th>\n",
       "      <th colspan=\"5\" halign=\"left\">sl_lev_va</th>\n",
       "    </tr>\n",
       "    <tr>\n",
       "      <th></th>\n",
       "      <th>count</th>\n",
       "      <th>min</th>\n",
       "      <th>max</th>\n",
       "      <th>std</th>\n",
       "      <th>mean</th>\n",
       "    </tr>\n",
       "    <tr>\n",
       "      <th>Years</th>\n",
       "      <th></th>\n",
       "      <th></th>\n",
       "      <th></th>\n",
       "      <th></th>\n",
       "      <th></th>\n",
       "    </tr>\n",
       "  </thead>\n",
       "  <tbody>\n",
       "    <tr>\n",
       "      <th>1999</th>\n",
       "      <td>83</td>\n",
       "      <td>810.46</td>\n",
       "      <td>816.94</td>\n",
       "      <td>1.952936</td>\n",
       "      <td>813.259518</td>\n",
       "    </tr>\n",
       "    <tr>\n",
       "      <th>2000</th>\n",
       "      <td>63</td>\n",
       "      <td>807.96</td>\n",
       "      <td>810.63</td>\n",
       "      <td>0.807622</td>\n",
       "      <td>809.583016</td>\n",
       "    </tr>\n",
       "    <tr>\n",
       "      <th>2001</th>\n",
       "      <td>13</td>\n",
       "      <td>808.54</td>\n",
       "      <td>813.34</td>\n",
       "      <td>1.389649</td>\n",
       "      <td>810.633846</td>\n",
       "    </tr>\n",
       "    <tr>\n",
       "      <th>2002</th>\n",
       "      <td>11</td>\n",
       "      <td>806.98</td>\n",
       "      <td>810.48</td>\n",
       "      <td>1.240552</td>\n",
       "      <td>808.350909</td>\n",
       "    </tr>\n",
       "    <tr>\n",
       "      <th>2003</th>\n",
       "      <td>7</td>\n",
       "      <td>805.75</td>\n",
       "      <td>806.99</td>\n",
       "      <td>0.488599</td>\n",
       "      <td>806.394286</td>\n",
       "    </tr>\n",
       "  </tbody>\n",
       "</table>\n",
       "</div>"
      ],
      "text/plain": [
       "      sl_lev_va                                      \n",
       "          count     min     max       std        mean\n",
       "Years                                                \n",
       "1999         83  810.46  816.94  1.952936  813.259518\n",
       "2000         63  807.96  810.63  0.807622  809.583016\n",
       "2001         13  808.54  813.34  1.389649  810.633846\n",
       "2002         11  806.98  810.48  1.240552  808.350909\n",
       "2003          7  805.75  806.99  0.488599  806.394286"
      ]
     },
     "execution_count": 9,
     "metadata": {},
     "output_type": "execute_result"
    }
   ],
   "source": [
    "yearsCalc = wellData.groupby('Years')\n",
    "yearsCalc.agg(['count', 'min', 'max', 'std', 'mean']).head(5)"
   ]
  },
  {
   "cell_type": "code",
   "execution_count": 10,
   "metadata": {},
   "outputs": [
    {
     "name": "stdout",
     "output_type": "stream",
     "text": [
      "Years\n",
      "1999    813.259518\n",
      "2009    812.318000\n",
      "2010    812.147143\n",
      "2008    811.379000\n",
      "2005    810.997500\n",
      "2001    810.633846\n",
      "2011    809.852500\n",
      "2000    809.583016\n",
      "2007    809.440000\n",
      "2006    809.338889\n",
      "2015    809.247500\n",
      "2002    808.350909\n",
      "2004    807.865000\n",
      "2014    807.554286\n",
      "2012    807.195000\n",
      "2003    806.394286\n",
      "2013    806.076000\n",
      "Name: sl_lev_va, dtype: float64\n"
     ]
    }
   ],
   "source": [
    "averageperyear = yearsCalc['sl_lev_va'].mean().sort_values(ascending=False)\n",
    "print(averageperyear)"
   ]
  },
  {
   "cell_type": "markdown",
   "metadata": {},
   "source": [
    "### Figure for individual well over time"
   ]
  },
  {
   "cell_type": "code",
   "execution_count": 11,
   "metadata": {},
   "outputs": [
    {
     "data": {
      "text/plain": [
       "Text(0.5, 1.0, 'Average Well Datum Value per Year')"
      ]
     },
     "execution_count": 11,
     "metadata": {},
     "output_type": "execute_result"
    },
    {
     "data": {
      "image/png": "[encoded data removed]",
      "text/plain": [
       "<Figure size 720x432 with 1 Axes>"
      ]
     },
     "metadata": {
      "needs_background": "light"
     },
     "output_type": "display_data"
    }
   ],
   "source": [
    "ax1 = wellData[['sl_lev_va', 'Years']].boxplot(by='Years', figsize=(10, 6))\n",
    "ax1.set_xlabel('Years')\n",
    "ax1.set_ylabel('Depth (above datum)')\n",
    "ax1.set_title('Average Well Datum Value per Year')\n",
    "#plt.savefig('gwlevelsLawrence.jpg')"
   ]
  },
  {
   "cell_type": "markdown",
   "metadata": {},
   "source": [
    "### Importing datafile with lat/long and surface elevation data"
   ]
  },
  {
   "cell_type": "code",
   "execution_count": 12,
   "metadata": {},
   "outputs": [
    {
     "data": {
      "text/html": [
       "<div>\n",
       "<style scoped>\n",
       "    .dataframe tbody tr th:only-of-type {\n",
       "        vertical-align: middle;\n",
       "    }\n",
       "\n",
       "    .dataframe tbody tr th {\n",
       "        vertical-align: top;\n",
       "    }\n",
       "\n",
       "    .dataframe thead th {\n",
       "        text-align: right;\n",
       "    }\n",
       "</style>\n",
       "<table border=\"1\" class=\"dataframe\">\n",
       "  <thead>\n",
       "    <tr style=\"text-align: right;\">\n",
       "      <th></th>\n",
       "      <th>agency_cd</th>\n",
       "      <th>site_no</th>\n",
       "      <th>station_nm</th>\n",
       "      <th>site_tp_cd</th>\n",
       "      <th>dec_lat_va</th>\n",
       "      <th>dec_long_va</th>\n",
       "      <th>coord_meth_cd</th>\n",
       "      <th>coord_acy_cd</th>\n",
       "      <th>coord_datum_cd</th>\n",
       "      <th>dec_coord_datum_cd</th>\n",
       "      <th>...</th>\n",
       "      <th>basin_cd</th>\n",
       "      <th>nat_aqfr_cd</th>\n",
       "      <th>aqfr_cd</th>\n",
       "      <th>aqfr_type_cd</th>\n",
       "      <th>well_depth_va</th>\n",
       "      <th>hole_depth_va</th>\n",
       "      <th>depth_src_cd</th>\n",
       "      <th>gw_begin_date</th>\n",
       "      <th>gw_end_date</th>\n",
       "      <th>gw_count_nu</th>\n",
       "    </tr>\n",
       "  </thead>\n",
       "  <tbody>\n",
       "    <tr>\n",
       "      <th>0</th>\n",
       "      <td>5s</td>\n",
       "      <td>15s</td>\n",
       "      <td>50s</td>\n",
       "      <td>7s</td>\n",
       "      <td>16n</td>\n",
       "      <td>16n</td>\n",
       "      <td>1s</td>\n",
       "      <td>1s</td>\n",
       "      <td>10s</td>\n",
       "      <td>10s</td>\n",
       "      <td>...</td>\n",
       "      <td>2s</td>\n",
       "      <td>10s</td>\n",
       "      <td>8s</td>\n",
       "      <td>1s</td>\n",
       "      <td>8s</td>\n",
       "      <td>8s</td>\n",
       "      <td>1s</td>\n",
       "      <td>10d</td>\n",
       "      <td>10d</td>\n",
       "      <td>8n</td>\n",
       "    </tr>\n",
       "    <tr>\n",
       "      <th>1</th>\n",
       "      <td>USGS</td>\n",
       "      <td>390006095132301</td>\n",
       "      <td>12S 20E 17CCB 01  LAWRENCE AIRPORT WELL</td>\n",
       "      <td>GW</td>\n",
       "      <td>39.00166825</td>\n",
       "      <td>-95.22330530</td>\n",
       "      <td>M</td>\n",
       "      <td>T</td>\n",
       "      <td>NAD27</td>\n",
       "      <td>NAD83</td>\n",
       "      <td>...</td>\n",
       "      <td>06</td>\n",
       "      <td>N100ALLUVL</td>\n",
       "      <td>112NWMN</td>\n",
       "      <td>NaN</td>\n",
       "      <td>53.0</td>\n",
       "      <td>NaN</td>\n",
       "      <td>M</td>\n",
       "      <td>1952-02-01</td>\n",
       "      <td>2015-08-12</td>\n",
       "      <td>3431</td>\n",
       "    </tr>\n",
       "  </tbody>\n",
       "</table>\n",
       "<p>2 rows × 26 columns</p>\n",
       "</div>"
      ],
      "text/plain": [
       "  agency_cd          site_no                               station_nm  \\\n",
       "0        5s              15s                                      50s   \n",
       "1      USGS  390006095132301  12S 20E 17CCB 01  LAWRENCE AIRPORT WELL   \n",
       "\n",
       "  site_tp_cd   dec_lat_va   dec_long_va coord_meth_cd coord_acy_cd  \\\n",
       "0         7s          16n           16n            1s           1s   \n",
       "1         GW  39.00166825  -95.22330530             M            T   \n",
       "\n",
       "  coord_datum_cd dec_coord_datum_cd     ...     basin_cd nat_aqfr_cd  aqfr_cd  \\\n",
       "0            10s                10s     ...           2s         10s       8s   \n",
       "1          NAD27              NAD83     ...           06  N100ALLUVL  112NWMN   \n",
       "\n",
       "  aqfr_type_cd well_depth_va hole_depth_va depth_src_cd gw_begin_date  \\\n",
       "0           1s            8s            8s           1s           10d   \n",
       "1          NaN          53.0           NaN            M    1952-02-01   \n",
       "\n",
       "  gw_end_date gw_count_nu  \n",
       "0         10d          8n  \n",
       "1  2015-08-12        3431  \n",
       "\n",
       "[2 rows x 26 columns]"
      ]
     },
     "execution_count": 12,
     "metadata": {},
     "output_type": "execute_result"
    }
   ],
   "source": [
    "#New goal: box plot for each active year for well and project along lat long 'x axis' across \n",
    "info = \"/Users/brewaterman/Desktop/GroundwaterVariation/Lawrence\"\n",
    "dfinfo = pd.read_csv(info, sep = \"\\t\", comment = \"#\")\n",
    "dfinfo"
   ]
  },
  {
   "cell_type": "code",
   "execution_count": 13,
   "metadata": {},
   "outputs": [
    {
     "data": {
      "text/html": [
       "<div>\n",
       "<style scoped>\n",
       "    .dataframe tbody tr th:only-of-type {\n",
       "        vertical-align: middle;\n",
       "    }\n",
       "\n",
       "    .dataframe tbody tr th {\n",
       "        vertical-align: top;\n",
       "    }\n",
       "\n",
       "    .dataframe thead th {\n",
       "        text-align: right;\n",
       "    }\n",
       "</style>\n",
       "<table border=\"1\" class=\"dataframe\">\n",
       "  <thead>\n",
       "    <tr style=\"text-align: right;\">\n",
       "      <th></th>\n",
       "      <th>agency_cd</th>\n",
       "      <th>site_no</th>\n",
       "      <th>station_nm</th>\n",
       "      <th>site_tp_cd</th>\n",
       "      <th>dec_lat_va</th>\n",
       "      <th>dec_long_va</th>\n",
       "      <th>coord_meth_cd</th>\n",
       "      <th>coord_acy_cd</th>\n",
       "      <th>coord_datum_cd</th>\n",
       "      <th>dec_coord_datum_cd</th>\n",
       "      <th>...</th>\n",
       "      <th>basin_cd</th>\n",
       "      <th>nat_aqfr_cd</th>\n",
       "      <th>aqfr_cd</th>\n",
       "      <th>aqfr_type_cd</th>\n",
       "      <th>well_depth_va</th>\n",
       "      <th>hole_depth_va</th>\n",
       "      <th>depth_src_cd</th>\n",
       "      <th>gw_begin_date</th>\n",
       "      <th>gw_end_date</th>\n",
       "      <th>gw_count_nu</th>\n",
       "    </tr>\n",
       "  </thead>\n",
       "  <tbody>\n",
       "    <tr>\n",
       "      <th>1</th>\n",
       "      <td>USGS</td>\n",
       "      <td>390006095132301</td>\n",
       "      <td>12S 20E 17CCB 01  LAWRENCE AIRPORT WELL</td>\n",
       "      <td>GW</td>\n",
       "      <td>39.00166825</td>\n",
       "      <td>-95.22330530</td>\n",
       "      <td>M</td>\n",
       "      <td>T</td>\n",
       "      <td>NAD27</td>\n",
       "      <td>NAD83</td>\n",
       "      <td>...</td>\n",
       "      <td>06</td>\n",
       "      <td>N100ALLUVL</td>\n",
       "      <td>112NWMN</td>\n",
       "      <td>NaN</td>\n",
       "      <td>53.0</td>\n",
       "      <td>NaN</td>\n",
       "      <td>M</td>\n",
       "      <td>1952-02-01</td>\n",
       "      <td>2015-08-12</td>\n",
       "      <td>3431</td>\n",
       "    </tr>\n",
       "  </tbody>\n",
       "</table>\n",
       "<p>1 rows × 26 columns</p>\n",
       "</div>"
      ],
      "text/plain": [
       "  agency_cd          site_no                               station_nm  \\\n",
       "1      USGS  390006095132301  12S 20E 17CCB 01  LAWRENCE AIRPORT WELL   \n",
       "\n",
       "  site_tp_cd   dec_lat_va   dec_long_va coord_meth_cd coord_acy_cd  \\\n",
       "1         GW  39.00166825  -95.22330530             M            T   \n",
       "\n",
       "  coord_datum_cd dec_coord_datum_cd     ...     basin_cd nat_aqfr_cd  aqfr_cd  \\\n",
       "1          NAD27              NAD83     ...           06  N100ALLUVL  112NWMN   \n",
       "\n",
       "  aqfr_type_cd well_depth_va hole_depth_va depth_src_cd gw_begin_date  \\\n",
       "1          NaN          53.0           NaN            M    1952-02-01   \n",
       "\n",
       "  gw_end_date gw_count_nu  \n",
       "1  2015-08-12        3431  \n",
       "\n",
       "[1 rows x 26 columns]"
      ]
     },
     "execution_count": 13,
     "metadata": {},
     "output_type": "execute_result"
    }
   ],
   "source": [
    "#pulling out neccessary rows\n",
    "data = dfinfo.drop(0)\n",
    "data"
   ]
  },
  {
   "cell_type": "markdown",
   "metadata": {},
   "source": [
    "#### Condense dataframe (not sure if neccessary I just like to do it)"
   ]
  },
  {
   "cell_type": "code",
   "execution_count": 14,
   "metadata": {},
   "outputs": [
    {
     "data": {
      "text/html": [
       "<div>\n",
       "<style scoped>\n",
       "    .dataframe tbody tr th:only-of-type {\n",
       "        vertical-align: middle;\n",
       "    }\n",
       "\n",
       "    .dataframe tbody tr th {\n",
       "        vertical-align: top;\n",
       "    }\n",
       "\n",
       "    .dataframe thead th {\n",
       "        text-align: right;\n",
       "    }\n",
       "</style>\n",
       "<table border=\"1\" class=\"dataframe\">\n",
       "  <thead>\n",
       "    <tr style=\"text-align: right;\">\n",
       "      <th></th>\n",
       "      <th>site_no</th>\n",
       "      <th>dec_lat_va</th>\n",
       "      <th>dec_long_va</th>\n",
       "      <th>alt_va</th>\n",
       "      <th>well_depth_va</th>\n",
       "      <th>nat_aqfr_cd</th>\n",
       "    </tr>\n",
       "  </thead>\n",
       "  <tbody>\n",
       "    <tr>\n",
       "      <th>1</th>\n",
       "      <td>390006095132301</td>\n",
       "      <td>39.00166825</td>\n",
       "      <td>-95.22330530</td>\n",
       "      <td>830.29</td>\n",
       "      <td>53.0</td>\n",
       "      <td>N100ALLUVL</td>\n",
       "    </tr>\n",
       "  </tbody>\n",
       "</table>\n",
       "</div>"
      ],
      "text/plain": [
       "           site_no   dec_lat_va   dec_long_va   alt_va well_depth_va  \\\n",
       "1  390006095132301  39.00166825  -95.22330530   830.29          53.0   \n",
       "\n",
       "  nat_aqfr_cd  \n",
       "1  N100ALLUVL  "
      ]
     },
     "execution_count": 14,
     "metadata": {},
     "output_type": "execute_result"
    }
   ],
   "source": [
    "wellInfo = data[[\"site_no\", \"dec_lat_va\", \"dec_long_va\", \"alt_va\", \"well_depth_va\", \"nat_aqfr_cd\"]]\n",
    "wellInfo"
   ]
  },
  {
   "cell_type": "markdown",
   "metadata": {},
   "source": [
    "#### Merge orignal df with new data frame with lat and long, aquifer type, etc. "
   ]
  },
  {
   "cell_type": "code",
   "execution_count": 15,
   "metadata": {},
   "outputs": [
    {
     "data": {
      "text/html": [
       "<div>\n",
       "<style scoped>\n",
       "    .dataframe tbody tr th:only-of-type {\n",
       "        vertical-align: middle;\n",
       "    }\n",
       "\n",
       "    .dataframe tbody tr th {\n",
       "        vertical-align: top;\n",
       "    }\n",
       "\n",
       "    .dataframe thead th {\n",
       "        text-align: right;\n",
       "    }\n",
       "</style>\n",
       "<table border=\"1\" class=\"dataframe\">\n",
       "  <thead>\n",
       "    <tr style=\"text-align: right;\">\n",
       "      <th></th>\n",
       "      <th>site_no</th>\n",
       "      <th>lev_dt</th>\n",
       "      <th>sl_lev_va</th>\n",
       "      <th>sl_datum_cd</th>\n",
       "      <th>Years</th>\n",
       "      <th>dec_lat_va</th>\n",
       "      <th>dec_long_va</th>\n",
       "      <th>alt_va</th>\n",
       "      <th>well_depth_va</th>\n",
       "      <th>nat_aqfr_cd</th>\n",
       "    </tr>\n",
       "  </thead>\n",
       "  <tbody>\n",
       "    <tr>\n",
       "      <th>0</th>\n",
       "      <td>390006095132301</td>\n",
       "      <td>1999-01-05</td>\n",
       "      <td>814.50</td>\n",
       "      <td>NGVD29</td>\n",
       "      <td>1999</td>\n",
       "      <td>39.00166825</td>\n",
       "      <td>-95.22330530</td>\n",
       "      <td>830.29</td>\n",
       "      <td>53.0</td>\n",
       "      <td>N100ALLUVL</td>\n",
       "    </tr>\n",
       "    <tr>\n",
       "      <th>1</th>\n",
       "      <td>390006095132301</td>\n",
       "      <td>1999-01-10</td>\n",
       "      <td>814.33</td>\n",
       "      <td>NGVD29</td>\n",
       "      <td>1999</td>\n",
       "      <td>39.00166825</td>\n",
       "      <td>-95.22330530</td>\n",
       "      <td>830.29</td>\n",
       "      <td>53.0</td>\n",
       "      <td>N100ALLUVL</td>\n",
       "    </tr>\n",
       "    <tr>\n",
       "      <th>2</th>\n",
       "      <td>390006095132301</td>\n",
       "      <td>1999-01-15</td>\n",
       "      <td>814.20</td>\n",
       "      <td>NGVD29</td>\n",
       "      <td>1999</td>\n",
       "      <td>39.00166825</td>\n",
       "      <td>-95.22330530</td>\n",
       "      <td>830.29</td>\n",
       "      <td>53.0</td>\n",
       "      <td>N100ALLUVL</td>\n",
       "    </tr>\n",
       "    <tr>\n",
       "      <th>3</th>\n",
       "      <td>390006095132301</td>\n",
       "      <td>1999-01-20</td>\n",
       "      <td>814.11</td>\n",
       "      <td>NGVD29</td>\n",
       "      <td>1999</td>\n",
       "      <td>39.00166825</td>\n",
       "      <td>-95.22330530</td>\n",
       "      <td>830.29</td>\n",
       "      <td>53.0</td>\n",
       "      <td>N100ALLUVL</td>\n",
       "    </tr>\n",
       "    <tr>\n",
       "      <th>4</th>\n",
       "      <td>390006095132301</td>\n",
       "      <td>1999-01-25</td>\n",
       "      <td>813.95</td>\n",
       "      <td>NGVD29</td>\n",
       "      <td>1999</td>\n",
       "      <td>39.00166825</td>\n",
       "      <td>-95.22330530</td>\n",
       "      <td>830.29</td>\n",
       "      <td>53.0</td>\n",
       "      <td>N100ALLUVL</td>\n",
       "    </tr>\n",
       "  </tbody>\n",
       "</table>\n",
       "</div>"
      ],
      "text/plain": [
       "           site_no      lev_dt  sl_lev_va sl_datum_cd  Years   dec_lat_va  \\\n",
       "0  390006095132301  1999-01-05     814.50      NGVD29   1999  39.00166825   \n",
       "1  390006095132301  1999-01-10     814.33      NGVD29   1999  39.00166825   \n",
       "2  390006095132301  1999-01-15     814.20      NGVD29   1999  39.00166825   \n",
       "3  390006095132301  1999-01-20     814.11      NGVD29   1999  39.00166825   \n",
       "4  390006095132301  1999-01-25     813.95      NGVD29   1999  39.00166825   \n",
       "\n",
       "    dec_long_va   alt_va well_depth_va nat_aqfr_cd  \n",
       "0  -95.22330530   830.29          53.0  N100ALLUVL  \n",
       "1  -95.22330530   830.29          53.0  N100ALLUVL  \n",
       "2  -95.22330530   830.29          53.0  N100ALLUVL  \n",
       "3  -95.22330530   830.29          53.0  N100ALLUVL  \n",
       "4  -95.22330530   830.29          53.0  N100ALLUVL  "
      ]
     },
     "execution_count": 15,
     "metadata": {},
     "output_type": "execute_result"
    }
   ],
   "source": [
    "dftotal = pd.merge(wellData, wellInfo, on=\"site_no\", how='outer')\n",
    "dftotal.head(5)"
   ]
  },
  {
   "cell_type": "markdown",
   "metadata": {},
   "source": [
    "#### Convert data objects to usable types (float) "
   ]
  },
  {
   "cell_type": "code",
   "execution_count": 16,
   "metadata": {},
   "outputs": [
    {
     "name": "stdout",
     "output_type": "stream",
     "text": [
      "<class 'pandas.core.frame.DataFrame'>\n",
      "Int64Index: 253 entries, 0 to 252\n",
      "Data columns (total 10 columns):\n",
      "site_no          253 non-null object\n",
      "lev_dt           253 non-null object\n",
      "sl_lev_va        253 non-null float64\n",
      "sl_datum_cd      253 non-null object\n",
      "Years            253 non-null int64\n",
      "dec_lat_va       253 non-null object\n",
      "dec_long_va      253 non-null object\n",
      "alt_va           253 non-null float64\n",
      "well_depth_va    253 non-null object\n",
      "nat_aqfr_cd      253 non-null object\n",
      "dtypes: float64(2), int64(1), object(7)\n",
      "memory usage: 21.7+ KB\n"
     ]
    }
   ],
   "source": [
    "dftotal = dftotal.astype({\"alt_va\": float}, \n",
    "                        {\"dec_lat_va\": float},\n",
    "                        {\"dec_long_va\": float})\n",
    "dftotal.info()"
   ]
  },
  {
   "cell_type": "markdown",
   "metadata": {},
   "source": [
    "#### New column that has depth from surface"
   ]
  },
  {
   "cell_type": "code",
   "execution_count": 17,
   "metadata": {},
   "outputs": [
    {
     "data": {
      "text/html": [
       "<div>\n",
       "<style scoped>\n",
       "    .dataframe tbody tr th:only-of-type {\n",
       "        vertical-align: middle;\n",
       "    }\n",
       "\n",
       "    .dataframe tbody tr th {\n",
       "        vertical-align: top;\n",
       "    }\n",
       "\n",
       "    .dataframe thead th {\n",
       "        text-align: right;\n",
       "    }\n",
       "</style>\n",
       "<table border=\"1\" class=\"dataframe\">\n",
       "  <thead>\n",
       "    <tr style=\"text-align: right;\">\n",
       "      <th></th>\n",
       "      <th>site_no</th>\n",
       "      <th>lev_dt</th>\n",
       "      <th>sl_lev_va</th>\n",
       "      <th>sl_datum_cd</th>\n",
       "      <th>Years</th>\n",
       "      <th>dec_lat_va</th>\n",
       "      <th>dec_long_va</th>\n",
       "      <th>alt_va</th>\n",
       "      <th>well_depth_va</th>\n",
       "      <th>nat_aqfr_cd</th>\n",
       "      <th>va_from_surface</th>\n",
       "    </tr>\n",
       "  </thead>\n",
       "  <tbody>\n",
       "    <tr>\n",
       "      <th>0</th>\n",
       "      <td>390006095132301</td>\n",
       "      <td>1999-01-05</td>\n",
       "      <td>814.50</td>\n",
       "      <td>NGVD29</td>\n",
       "      <td>1999</td>\n",
       "      <td>39.00166825</td>\n",
       "      <td>-95.22330530</td>\n",
       "      <td>830.29</td>\n",
       "      <td>53.0</td>\n",
       "      <td>N100ALLUVL</td>\n",
       "      <td>15.79</td>\n",
       "    </tr>\n",
       "    <tr>\n",
       "      <th>1</th>\n",
       "      <td>390006095132301</td>\n",
       "      <td>1999-01-10</td>\n",
       "      <td>814.33</td>\n",
       "      <td>NGVD29</td>\n",
       "      <td>1999</td>\n",
       "      <td>39.00166825</td>\n",
       "      <td>-95.22330530</td>\n",
       "      <td>830.29</td>\n",
       "      <td>53.0</td>\n",
       "      <td>N100ALLUVL</td>\n",
       "      <td>15.96</td>\n",
       "    </tr>\n",
       "    <tr>\n",
       "      <th>2</th>\n",
       "      <td>390006095132301</td>\n",
       "      <td>1999-01-15</td>\n",
       "      <td>814.20</td>\n",
       "      <td>NGVD29</td>\n",
       "      <td>1999</td>\n",
       "      <td>39.00166825</td>\n",
       "      <td>-95.22330530</td>\n",
       "      <td>830.29</td>\n",
       "      <td>53.0</td>\n",
       "      <td>N100ALLUVL</td>\n",
       "      <td>16.09</td>\n",
       "    </tr>\n",
       "    <tr>\n",
       "      <th>3</th>\n",
       "      <td>390006095132301</td>\n",
       "      <td>1999-01-20</td>\n",
       "      <td>814.11</td>\n",
       "      <td>NGVD29</td>\n",
       "      <td>1999</td>\n",
       "      <td>39.00166825</td>\n",
       "      <td>-95.22330530</td>\n",
       "      <td>830.29</td>\n",
       "      <td>53.0</td>\n",
       "      <td>N100ALLUVL</td>\n",
       "      <td>16.18</td>\n",
       "    </tr>\n",
       "    <tr>\n",
       "      <th>4</th>\n",
       "      <td>390006095132301</td>\n",
       "      <td>1999-01-25</td>\n",
       "      <td>813.95</td>\n",
       "      <td>NGVD29</td>\n",
       "      <td>1999</td>\n",
       "      <td>39.00166825</td>\n",
       "      <td>-95.22330530</td>\n",
       "      <td>830.29</td>\n",
       "      <td>53.0</td>\n",
       "      <td>N100ALLUVL</td>\n",
       "      <td>16.34</td>\n",
       "    </tr>\n",
       "  </tbody>\n",
       "</table>\n",
       "</div>"
      ],
      "text/plain": [
       "           site_no      lev_dt  sl_lev_va sl_datum_cd  Years   dec_lat_va  \\\n",
       "0  390006095132301  1999-01-05     814.50      NGVD29   1999  39.00166825   \n",
       "1  390006095132301  1999-01-10     814.33      NGVD29   1999  39.00166825   \n",
       "2  390006095132301  1999-01-15     814.20      NGVD29   1999  39.00166825   \n",
       "3  390006095132301  1999-01-20     814.11      NGVD29   1999  39.00166825   \n",
       "4  390006095132301  1999-01-25     813.95      NGVD29   1999  39.00166825   \n",
       "\n",
       "    dec_long_va  alt_va well_depth_va nat_aqfr_cd  va_from_surface  \n",
       "0  -95.22330530  830.29          53.0  N100ALLUVL            15.79  \n",
       "1  -95.22330530  830.29          53.0  N100ALLUVL            15.96  \n",
       "2  -95.22330530  830.29          53.0  N100ALLUVL            16.09  \n",
       "3  -95.22330530  830.29          53.0  N100ALLUVL            16.18  \n",
       "4  -95.22330530  830.29          53.0  N100ALLUVL            16.34  "
      ]
     },
     "execution_count": 17,
     "metadata": {},
     "output_type": "execute_result"
    }
   ],
   "source": [
    "depthfromSurface = (dftotal.alt_va - dftotal.sl_lev_va)\n",
    "dftotal['va_from_surface'] = depthfromSurface\n",
    "dftotal.head(5)"
   ]
  },
  {
   "cell_type": "markdown",
   "metadata": {},
   "source": [
    "### Currently stuck trying to add second axis (depth below surface) to boxplot - ?"
   ]
  },
  {
   "cell_type": "code",
   "execution_count": 18,
   "metadata": {},
   "outputs": [
    {
     "ename": "AttributeError",
     "evalue": "'tuple' object has no attribute 'boxplot'",
     "output_type": "error",
     "traceback": [
      "\u001b[0;31m---------------------------------------------------------------------------\u001b[0m",
      "\u001b[0;31mAttributeError\u001b[0m                            Traceback (most recent call last)",
      "\u001b[0;32m<ipython-input-18-89b26150ca19>\u001b[0m in \u001b[0;36m<module>\u001b[0;34m\u001b[0m\n\u001b[1;32m      1\u001b[0m \u001b[0mplt\u001b[0m\u001b[0;34m.\u001b[0m\u001b[0mfigure\u001b[0m\u001b[0;34m(\u001b[0m\u001b[0;34m)\u001b[0m\u001b[0;34m\u001b[0m\u001b[0;34m\u001b[0m\u001b[0m\n\u001b[1;32m      2\u001b[0m \u001b[0max1\u001b[0m \u001b[0;34m=\u001b[0m \u001b[0mplt\u001b[0m\u001b[0;34m.\u001b[0m\u001b[0msubplots\u001b[0m\u001b[0;34m(\u001b[0m\u001b[0;34m)\u001b[0m\u001b[0;34m\u001b[0m\u001b[0;34m\u001b[0m\u001b[0m\n\u001b[0;32m----> 3\u001b[0;31m \u001b[0max1\u001b[0m\u001b[0;34m.\u001b[0m\u001b[0mboxplot\u001b[0m\u001b[0;34m(\u001b[0m\u001b[0mdftotal\u001b[0m\u001b[0;34m[\u001b[0m\u001b[0;34m[\u001b[0m\u001b[0;34m'sl_lev_va'\u001b[0m\u001b[0;34m,\u001b[0m \u001b[0;34m'Years'\u001b[0m\u001b[0;34m]\u001b[0m\u001b[0;34m]\u001b[0m\u001b[0;34m)\u001b[0m\u001b[0;34m\u001b[0m\u001b[0;34m\u001b[0m\u001b[0m\n\u001b[0m\u001b[1;32m      4\u001b[0m \u001b[0;34m\u001b[0m\u001b[0m\n\u001b[1;32m      5\u001b[0m \u001b[0max2\u001b[0m \u001b[0;34m=\u001b[0m \u001b[0max1\u001b[0m\u001b[0;34m.\u001b[0m\u001b[0mtwinx\u001b[0m\u001b[0;34m(\u001b[0m\u001b[0;34m)\u001b[0m \u001b[0;31m#so they share\u001b[0m\u001b[0;34m\u001b[0m\u001b[0;34m\u001b[0m\u001b[0m\n",
      "\u001b[0;31mAttributeError\u001b[0m: 'tuple' object has no attribute 'boxplot'"
     ]
    },
    {
     "data": {
      "text/plain": [
       "<Figure size 432x288 with 0 Axes>"
      ]
     },
     "metadata": {},
     "output_type": "display_data"
    },
    {
     "data": {
      "image/png": "[encoded data removed]",
      "text/plain": [
       "<Figure size 432x288 with 1 Axes>"
      ]
     },
     "metadata": {
      "needs_background": "light"
     },
     "output_type": "display_data"
    }
   ],
   "source": [
    "plt.figure()\n",
    "ax1 = plt.subplots()\n",
    "ax1.boxplot(dftotal[['sl_lev_va', 'Years']])\n",
    "\n",
    "ax2 = ax1.twinx() #so they share\n",
    "ax2.boxplot(dftotal[['va_from_surface', 'Years']])\n",
    "\n",
    "ax1.set_xlabel(\"Years\")  #sharing x labels\n",
    "ax1.set_ylabel(\"Depth (above datum)\")\n",
    "ax2.set_ylabel(\"Depth (below land surface)\")\n",
    "\n",
    "ax1.set_title('Average Well Datum Value per Year')\n",
    "#plt.savefig('gwlevelsLawrence.jpg')"
   ]
  },
  {
   "cell_type": "markdown",
   "metadata": {},
   "source": [
    "#### Next steps: Boxplot for average single well level at specific longitude to compare to other alluvial wells across KS"
   ]
  },
  {
   "cell_type": "code",
   "execution_count": 19,
   "metadata": {},
   "outputs": [
    {
     "data": {
      "text/plain": [
       "<matplotlib.axes._subplots.AxesSubplot at 0x117cccc88>"
      ]
     },
     "execution_count": 19,
     "metadata": {},
     "output_type": "execute_result"
    },
    {
     "data": {
      "image/png": "[encoded data removed]",
      "text/plain": [
       "<Figure size 432x288 with 1 Axes>"
      ]
     },
     "metadata": {
      "needs_background": "light"
     },
     "output_type": "display_data"
    }
   ],
   "source": [
    "dftotal.boxplot(column=['va_from_surface'], by=['dec_long_va'])"
   ]
  },
  {
   "cell_type": "code",
   "execution_count": null,
   "metadata": {},
   "outputs": [],
   "source": []
  }
 ],
 "metadata": {
  "kernelspec": {
   "display_name": "Python 3",
   "language": "python",
   "name": "python3"
  },
  "language_info": {
   "codemirror_mode": {
    "name": "ipython",
    "version": 3
   },
   "file_extension": ".py",
   "mimetype": "text/x-python",
   "name": "python",
   "nbconvert_exporter": "python",
   "pygments_lexer": "ipython3",
   "version": "3.7.1"
  }
 },
 "nbformat": 4,
 "nbformat_minor": 2
}
