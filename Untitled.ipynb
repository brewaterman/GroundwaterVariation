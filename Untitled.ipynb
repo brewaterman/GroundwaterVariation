{
 "cells": [
  {
   "cell_type": "code",
   "execution_count": null,
   "metadata": {},
   "outputs": [],
   "source": [
    "#Import cell\n",
    "import numpy as np\n",
    "import pandas as pd\n",
    "import matplotlib.pyplot as plt\n",
    "%matplotlib inline"
   ]
  },
  {
   "cell_type": "code",
   "execution_count": null,
   "metadata": {},
   "outputs": [],
   "source": [
    "ax = wellData[['sl_lev_va', 'Years']].boxplot(\n",
    "                by='Years', figsize=(10, 6), rot=90);\n",
    "ax.set_xlabel('Years');\n",
    "ax.set_ylabel('Depth (above datum)');\n",
    "ax.set_title('Average Well Datum Value per Year');\n",
    "plt.suptitle(''); "
   ]
  },
  {
   "cell_type": "code",
   "execution_count": null,
   "metadata": {},
   "outputs": [],
   "source": [
    "plt = averageperyear.plot.box(by='dec_lat_va', figsize=(10, 6))\n",
    "plt.set_xlabel('Latitude')\n",
    "plt.set_ylabel('Depth (above datum)')\n",
    "plt.set_title('Average Well Datum Value per Year')"
   ]
  },
  {
   "cell_type": "code",
   "execution_count": null,
   "metadata": {},
   "outputs": [],
   "source": [
    "#ax.axes().set_xticklabels(dftotal['dec_long_va'])\n",
    "#plt.xticks(dftotal[\"dec_long_va\"])\n",
    "\n",
    "## Custom x-axis labels\n",
    "ax.set_xticklabels(['Sample1', 'Sample2', 'Sample3', 'Sample4'])"
   ]
  }
 ],
 "metadata": {
  "kernelspec": {
   "display_name": "Python 3",
   "language": "python",
   "name": "python3"
  },
  "language_info": {
   "codemirror_mode": {
    "name": "ipython",
    "version": 3
   },
   "file_extension": ".py",
   "mimetype": "text/x-python",
   "name": "python",
   "nbconvert_exporter": "python",
   "pygments_lexer": "ipython3",
   "version": "3.7.1"
  }
 },
 "nbformat": 4,
 "nbformat_minor": 2
}
