{
 "cells": [
  {
   "cell_type": "markdown",
   "metadata": {},
   "source": [
    "### Import modules"
   ]
  },
  {
   "cell_type": "code",
   "execution_count": 1,
   "metadata": {},
   "outputs": [],
   "source": [
    "import pandas as pd\n",
    "import numpy as np\n",
    "import matplotlib.pyplot as plt\n",
    "%matplotlib inline"
   ]
  },
  {
   "cell_type": "markdown",
   "metadata": {},
   "source": [
    "### Import first file\n",
    "   * File with gw levels and dates gw level was recorded\n",
    "   * Needed to get rid of lines with '#' and other unneccesary lines (line0)"
   ]
  },
  {
   "cell_type": "code",
   "execution_count": 2,
   "metadata": {},
   "outputs": [
    {
     "data": {
      "text/html": [
       "<div>\n",
       "<style scoped>\n",
       "    .dataframe tbody tr th:only-of-type {\n",
       "        vertical-align: middle;\n",
       "    }\n",
       "\n",
       "    .dataframe tbody tr th {\n",
       "        vertical-align: top;\n",
       "    }\n",
       "\n",
       "    .dataframe thead th {\n",
       "        text-align: right;\n",
       "    }\n",
       "</style>\n",
       "<table border=\"1\" class=\"dataframe\">\n",
       "  <thead>\n",
       "    <tr style=\"text-align: right;\">\n",
       "      <th></th>\n",
       "      <th>agency_cd</th>\n",
       "      <th>site_no</th>\n",
       "      <th>site_tp_cd</th>\n",
       "      <th>lev_dt</th>\n",
       "      <th>lev_tm</th>\n",
       "      <th>lev_tz_cd</th>\n",
       "      <th>lev_va</th>\n",
       "      <th>sl_lev_va</th>\n",
       "      <th>sl_datum_cd</th>\n",
       "      <th>lev_status_cd</th>\n",
       "      <th>lev_agency_cd</th>\n",
       "      <th>lev_dt_acy_cd</th>\n",
       "      <th>lev_acy_cd</th>\n",
       "      <th>lev_src_cd</th>\n",
       "      <th>lev_meth_cd</th>\n",
       "      <th>lev_age_cd</th>\n",
       "    </tr>\n",
       "  </thead>\n",
       "  <tbody>\n",
       "    <tr>\n",
       "      <th>1</th>\n",
       "      <td>USGS</td>\n",
       "      <td>390006095132301</td>\n",
       "      <td>GW</td>\n",
       "      <td>1999-01-05</td>\n",
       "      <td>NaN</td>\n",
       "      <td>NaN</td>\n",
       "      <td>NaN</td>\n",
       "      <td>814.50</td>\n",
       "      <td>NGVD29</td>\n",
       "      <td>NaN</td>\n",
       "      <td>USGS</td>\n",
       "      <td>D</td>\n",
       "      <td>2</td>\n",
       "      <td>S</td>\n",
       "      <td>S</td>\n",
       "      <td>A</td>\n",
       "    </tr>\n",
       "    <tr>\n",
       "      <th>2</th>\n",
       "      <td>USGS</td>\n",
       "      <td>390006095132301</td>\n",
       "      <td>GW</td>\n",
       "      <td>1999-01-10</td>\n",
       "      <td>NaN</td>\n",
       "      <td>NaN</td>\n",
       "      <td>NaN</td>\n",
       "      <td>814.33</td>\n",
       "      <td>NGVD29</td>\n",
       "      <td>NaN</td>\n",
       "      <td>USGS</td>\n",
       "      <td>D</td>\n",
       "      <td>2</td>\n",
       "      <td>S</td>\n",
       "      <td>S</td>\n",
       "      <td>A</td>\n",
       "    </tr>\n",
       "    <tr>\n",
       "      <th>3</th>\n",
       "      <td>USGS</td>\n",
       "      <td>390006095132301</td>\n",
       "      <td>GW</td>\n",
       "      <td>1999-01-15</td>\n",
       "      <td>NaN</td>\n",
       "      <td>NaN</td>\n",
       "      <td>NaN</td>\n",
       "      <td>814.20</td>\n",
       "      <td>NGVD29</td>\n",
       "      <td>NaN</td>\n",
       "      <td>USGS</td>\n",
       "      <td>D</td>\n",
       "      <td>2</td>\n",
       "      <td>S</td>\n",
       "      <td>S</td>\n",
       "      <td>A</td>\n",
       "    </tr>\n",
       "    <tr>\n",
       "      <th>4</th>\n",
       "      <td>USGS</td>\n",
       "      <td>390006095132301</td>\n",
       "      <td>GW</td>\n",
       "      <td>1999-01-20</td>\n",
       "      <td>NaN</td>\n",
       "      <td>NaN</td>\n",
       "      <td>NaN</td>\n",
       "      <td>814.11</td>\n",
       "      <td>NGVD29</td>\n",
       "      <td>NaN</td>\n",
       "      <td>USGS</td>\n",
       "      <td>D</td>\n",
       "      <td>2</td>\n",
       "      <td>S</td>\n",
       "      <td>S</td>\n",
       "      <td>A</td>\n",
       "    </tr>\n",
       "    <tr>\n",
       "      <th>5</th>\n",
       "      <td>USGS</td>\n",
       "      <td>390006095132301</td>\n",
       "      <td>GW</td>\n",
       "      <td>1999-01-25</td>\n",
       "      <td>NaN</td>\n",
       "      <td>NaN</td>\n",
       "      <td>NaN</td>\n",
       "      <td>813.95</td>\n",
       "      <td>NGVD29</td>\n",
       "      <td>NaN</td>\n",
       "      <td>USGS</td>\n",
       "      <td>D</td>\n",
       "      <td>2</td>\n",
       "      <td>S</td>\n",
       "      <td>S</td>\n",
       "      <td>A</td>\n",
       "    </tr>\n",
       "  </tbody>\n",
       "</table>\n",
       "</div>"
      ],
      "text/plain": [
       "  agency_cd          site_no site_tp_cd      lev_dt lev_tm lev_tz_cd lev_va  \\\n",
       "1      USGS  390006095132301         GW  1999-01-05    NaN       NaN    NaN   \n",
       "2      USGS  390006095132301         GW  1999-01-10    NaN       NaN    NaN   \n",
       "3      USGS  390006095132301         GW  1999-01-15    NaN       NaN    NaN   \n",
       "4      USGS  390006095132301         GW  1999-01-20    NaN       NaN    NaN   \n",
       "5      USGS  390006095132301         GW  1999-01-25    NaN       NaN    NaN   \n",
       "\n",
       "  sl_lev_va sl_datum_cd lev_status_cd lev_agency_cd lev_dt_acy_cd lev_acy_cd  \\\n",
       "1    814.50      NGVD29           NaN          USGS             D          2   \n",
       "2    814.33      NGVD29           NaN          USGS             D          2   \n",
       "3    814.20      NGVD29           NaN          USGS             D          2   \n",
       "4    814.11      NGVD29           NaN          USGS             D          2   \n",
       "5    813.95      NGVD29           NaN          USGS             D          2   \n",
       "\n",
       "  lev_src_cd lev_meth_cd lev_age_cd  \n",
       "1          S           S          A  \n",
       "2          S           S          A  \n",
       "3          S           S          A  \n",
       "4          S           S          A  \n",
       "5          S           S          A  "
      ]
     },
     "execution_count": 2,
     "metadata": {},
     "output_type": "execute_result"
    }
   ],
   "source": [
    "file1 = \"/Users/brewaterman/Desktop/GroundwaterVariation/gwlevels\"\n",
    "df1 = pd.read_csv(file1, sep='\\t', comment='#')\n",
    "wellData_Lawrence = df1.drop(0)\n",
    "wellData_Lawrence.head(5)"
   ]
  },
  {
   "cell_type": "code",
   "execution_count": 3,
   "metadata": {},
   "outputs": [
    {
     "name": "stdout",
     "output_type": "stream",
     "text": [
      "<class 'pandas.core.frame.DataFrame'>\n",
      "Int64Index: 253 entries, 1 to 253\n",
      "Data columns (total 16 columns):\n",
      "agency_cd        253 non-null object\n",
      "site_no          253 non-null object\n",
      "site_tp_cd       253 non-null object\n",
      "lev_dt           253 non-null object\n",
      "lev_tm           73 non-null object\n",
      "lev_tz_cd        73 non-null object\n",
      "lev_va           0 non-null object\n",
      "sl_lev_va        253 non-null object\n",
      "sl_datum_cd      253 non-null object\n",
      "lev_status_cd    0 non-null object\n",
      "lev_agency_cd    253 non-null object\n",
      "lev_dt_acy_cd    253 non-null object\n",
      "lev_acy_cd       253 non-null object\n",
      "lev_src_cd       253 non-null object\n",
      "lev_meth_cd      253 non-null object\n",
      "lev_age_cd       253 non-null object\n",
      "dtypes: object(16)\n",
      "memory usage: 33.6+ KB\n"
     ]
    }
   ],
   "source": [
    "wellData_Lawrence.info()"
   ]
  },
  {
   "cell_type": "markdown",
   "metadata": {},
   "source": [
    " * Converting data from non-null object to different formats"
   ]
  },
  {
   "cell_type": "code",
   "execution_count": 4,
   "metadata": {},
   "outputs": [],
   "source": [
    "wellData_Lawrence = wellData_Lawrence.astype({\"sl_lev_va\" : float})\n",
    "\n",
    "level_date_Lawrence = pd.to_datetime(wellData_Lawrence[\"lev_dt\"])\n",
    "\n",
    "#only need years\n",
    "level_date_Lawrence = level_date_Lawrence.dt.year                     "
   ]
  },
  {
   "cell_type": "markdown",
   "metadata": {},
   "source": [
    "* Adding column of years back to df"
   ]
  },
  {
   "cell_type": "code",
   "execution_count": 5,
   "metadata": {},
   "outputs": [
    {
     "data": {
      "text/html": [
       "<div>\n",
       "<style scoped>\n",
       "    .dataframe tbody tr th:only-of-type {\n",
       "        vertical-align: middle;\n",
       "    }\n",
       "\n",
       "    .dataframe tbody tr th {\n",
       "        vertical-align: top;\n",
       "    }\n",
       "\n",
       "    .dataframe thead th {\n",
       "        text-align: right;\n",
       "    }\n",
       "</style>\n",
       "<table border=\"1\" class=\"dataframe\">\n",
       "  <thead>\n",
       "    <tr style=\"text-align: right;\">\n",
       "      <th></th>\n",
       "      <th>agency_cd</th>\n",
       "      <th>site_no</th>\n",
       "      <th>site_tp_cd</th>\n",
       "      <th>lev_dt</th>\n",
       "      <th>Years</th>\n",
       "      <th>lev_tm</th>\n",
       "      <th>lev_tz_cd</th>\n",
       "      <th>lev_va</th>\n",
       "      <th>sl_lev_va</th>\n",
       "      <th>sl_datum_cd</th>\n",
       "      <th>lev_status_cd</th>\n",
       "      <th>lev_agency_cd</th>\n",
       "      <th>lev_dt_acy_cd</th>\n",
       "      <th>lev_acy_cd</th>\n",
       "      <th>lev_src_cd</th>\n",
       "      <th>lev_meth_cd</th>\n",
       "      <th>lev_age_cd</th>\n",
       "    </tr>\n",
       "  </thead>\n",
       "  <tbody>\n",
       "    <tr>\n",
       "      <th>1</th>\n",
       "      <td>USGS</td>\n",
       "      <td>390006095132301</td>\n",
       "      <td>GW</td>\n",
       "      <td>1999-01-05</td>\n",
       "      <td>1999</td>\n",
       "      <td>NaN</td>\n",
       "      <td>NaN</td>\n",
       "      <td>NaN</td>\n",
       "      <td>814.50</td>\n",
       "      <td>NGVD29</td>\n",
       "      <td>NaN</td>\n",
       "      <td>USGS</td>\n",
       "      <td>D</td>\n",
       "      <td>2</td>\n",
       "      <td>S</td>\n",
       "      <td>S</td>\n",
       "      <td>A</td>\n",
       "    </tr>\n",
       "    <tr>\n",
       "      <th>2</th>\n",
       "      <td>USGS</td>\n",
       "      <td>390006095132301</td>\n",
       "      <td>GW</td>\n",
       "      <td>1999-01-10</td>\n",
       "      <td>1999</td>\n",
       "      <td>NaN</td>\n",
       "      <td>NaN</td>\n",
       "      <td>NaN</td>\n",
       "      <td>814.33</td>\n",
       "      <td>NGVD29</td>\n",
       "      <td>NaN</td>\n",
       "      <td>USGS</td>\n",
       "      <td>D</td>\n",
       "      <td>2</td>\n",
       "      <td>S</td>\n",
       "      <td>S</td>\n",
       "      <td>A</td>\n",
       "    </tr>\n",
       "  </tbody>\n",
       "</table>\n",
       "</div>"
      ],
      "text/plain": [
       "  agency_cd          site_no site_tp_cd      lev_dt  Years lev_tm lev_tz_cd  \\\n",
       "1      USGS  390006095132301         GW  1999-01-05   1999    NaN       NaN   \n",
       "2      USGS  390006095132301         GW  1999-01-10   1999    NaN       NaN   \n",
       "\n",
       "  lev_va  sl_lev_va sl_datum_cd lev_status_cd lev_agency_cd lev_dt_acy_cd  \\\n",
       "1    NaN     814.50      NGVD29           NaN          USGS             D   \n",
       "2    NaN     814.33      NGVD29           NaN          USGS             D   \n",
       "\n",
       "  lev_acy_cd lev_src_cd lev_meth_cd lev_age_cd  \n",
       "1          2          S           S          A  \n",
       "2          2          S           S          A  "
      ]
     },
     "execution_count": 5,
     "metadata": {},
     "output_type": "execute_result"
    }
   ],
   "source": [
    "wellData_Lawrence.insert(4, \"Years\", level_date_Lawrence)\n",
    "wellData_Lawrence.head(2)"
   ]
  },
  {
   "cell_type": "markdown",
   "metadata": {},
   "source": [
    "### Import second file with general info\n",
    " * Altitude of well, Lat/Long, station name, aquifer type, well depth"
   ]
  },
  {
   "cell_type": "code",
   "execution_count": 6,
   "metadata": {},
   "outputs": [
    {
     "data": {
      "text/html": [
       "<div>\n",
       "<style scoped>\n",
       "    .dataframe tbody tr th:only-of-type {\n",
       "        vertical-align: middle;\n",
       "    }\n",
       "\n",
       "    .dataframe tbody tr th {\n",
       "        vertical-align: top;\n",
       "    }\n",
       "\n",
       "    .dataframe thead th {\n",
       "        text-align: right;\n",
       "    }\n",
       "</style>\n",
       "<table border=\"1\" class=\"dataframe\">\n",
       "  <thead>\n",
       "    <tr style=\"text-align: right;\">\n",
       "      <th></th>\n",
       "      <th>agency_cd</th>\n",
       "      <th>site_no</th>\n",
       "      <th>station_nm</th>\n",
       "      <th>site_tp_cd</th>\n",
       "      <th>dec_lat_va</th>\n",
       "      <th>dec_long_va</th>\n",
       "      <th>coord_meth_cd</th>\n",
       "      <th>coord_acy_cd</th>\n",
       "      <th>coord_datum_cd</th>\n",
       "      <th>dec_coord_datum_cd</th>\n",
       "      <th>...</th>\n",
       "      <th>basin_cd</th>\n",
       "      <th>nat_aqfr_cd</th>\n",
       "      <th>aqfr_cd</th>\n",
       "      <th>aqfr_type_cd</th>\n",
       "      <th>well_depth_va</th>\n",
       "      <th>hole_depth_va</th>\n",
       "      <th>depth_src_cd</th>\n",
       "      <th>gw_begin_date</th>\n",
       "      <th>gw_end_date</th>\n",
       "      <th>gw_count_nu</th>\n",
       "    </tr>\n",
       "  </thead>\n",
       "  <tbody>\n",
       "    <tr>\n",
       "      <th>1</th>\n",
       "      <td>USGS</td>\n",
       "      <td>390006095132301</td>\n",
       "      <td>12S 20E 17CCB 01  LAWRENCE AIRPORT WELL</td>\n",
       "      <td>GW</td>\n",
       "      <td>39.00166825</td>\n",
       "      <td>-95.22330530</td>\n",
       "      <td>M</td>\n",
       "      <td>T</td>\n",
       "      <td>NAD27</td>\n",
       "      <td>NAD83</td>\n",
       "      <td>...</td>\n",
       "      <td>06</td>\n",
       "      <td>N100ALLUVL</td>\n",
       "      <td>112NWMN</td>\n",
       "      <td>NaN</td>\n",
       "      <td>53.0</td>\n",
       "      <td>NaN</td>\n",
       "      <td>M</td>\n",
       "      <td>1952-02-01</td>\n",
       "      <td>2015-08-12</td>\n",
       "      <td>3431</td>\n",
       "    </tr>\n",
       "  </tbody>\n",
       "</table>\n",
       "<p>1 rows × 26 columns</p>\n",
       "</div>"
      ],
      "text/plain": [
       "  agency_cd          site_no                               station_nm  \\\n",
       "1      USGS  390006095132301  12S 20E 17CCB 01  LAWRENCE AIRPORT WELL   \n",
       "\n",
       "  site_tp_cd   dec_lat_va   dec_long_va coord_meth_cd coord_acy_cd  \\\n",
       "1         GW  39.00166825  -95.22330530             M            T   \n",
       "\n",
       "  coord_datum_cd dec_coord_datum_cd     ...     basin_cd nat_aqfr_cd  aqfr_cd  \\\n",
       "1          NAD27              NAD83     ...           06  N100ALLUVL  112NWMN   \n",
       "\n",
       "  aqfr_type_cd well_depth_va hole_depth_va depth_src_cd gw_begin_date  \\\n",
       "1          NaN          53.0           NaN            M    1952-02-01   \n",
       "\n",
       "  gw_end_date gw_count_nu  \n",
       "1  2015-08-12        3431  \n",
       "\n",
       "[1 rows x 26 columns]"
      ]
     },
     "execution_count": 6,
     "metadata": {},
     "output_type": "execute_result"
    }
   ],
   "source": [
    "file2 = \"/Users/brewaterman/Desktop/GroundwaterVariation/Lawrence\"\n",
    "df2 = pd.read_csv(file2, sep = \"\\t\", comment = \"#\")\n",
    "wellInfo_Lawrence = df2.drop(0)\n",
    "wellInfo_Lawrence.head(2)"
   ]
  },
  {
   "cell_type": "markdown",
   "metadata": {},
   "source": [
    "* Converting data types "
   ]
  },
  {
   "cell_type": "code",
   "execution_count": 7,
   "metadata": {},
   "outputs": [],
   "source": [
    "wellInfo_Lawrence = wellInfo_Lawrence.astype({\"alt_va\": float})"
   ]
  },
  {
   "cell_type": "markdown",
   "metadata": {},
   "source": [
    "### Merging two dataframes \n",
    "* gw levels and dates + gen. info for well"
   ]
  },
  {
   "cell_type": "code",
   "execution_count": 8,
   "metadata": {},
   "outputs": [
    {
     "data": {
      "text/html": [
       "<div>\n",
       "<style scoped>\n",
       "    .dataframe tbody tr th:only-of-type {\n",
       "        vertical-align: middle;\n",
       "    }\n",
       "\n",
       "    .dataframe tbody tr th {\n",
       "        vertical-align: top;\n",
       "    }\n",
       "\n",
       "    .dataframe thead th {\n",
       "        text-align: right;\n",
       "    }\n",
       "</style>\n",
       "<table border=\"1\" class=\"dataframe\">\n",
       "  <thead>\n",
       "    <tr style=\"text-align: right;\">\n",
       "      <th></th>\n",
       "      <th>agency_cd_x</th>\n",
       "      <th>site_no</th>\n",
       "      <th>site_tp_cd_x</th>\n",
       "      <th>lev_dt</th>\n",
       "      <th>Years</th>\n",
       "      <th>lev_tm</th>\n",
       "      <th>lev_tz_cd</th>\n",
       "      <th>lev_va</th>\n",
       "      <th>sl_lev_va</th>\n",
       "      <th>sl_datum_cd</th>\n",
       "      <th>...</th>\n",
       "      <th>basin_cd</th>\n",
       "      <th>nat_aqfr_cd</th>\n",
       "      <th>aqfr_cd</th>\n",
       "      <th>aqfr_type_cd</th>\n",
       "      <th>well_depth_va</th>\n",
       "      <th>hole_depth_va</th>\n",
       "      <th>depth_src_cd</th>\n",
       "      <th>gw_begin_date</th>\n",
       "      <th>gw_end_date</th>\n",
       "      <th>gw_count_nu</th>\n",
       "    </tr>\n",
       "  </thead>\n",
       "  <tbody>\n",
       "    <tr>\n",
       "      <th>0</th>\n",
       "      <td>USGS</td>\n",
       "      <td>390006095132301</td>\n",
       "      <td>GW</td>\n",
       "      <td>1999-01-05</td>\n",
       "      <td>1999</td>\n",
       "      <td>NaN</td>\n",
       "      <td>NaN</td>\n",
       "      <td>NaN</td>\n",
       "      <td>814.50</td>\n",
       "      <td>NGVD29</td>\n",
       "      <td>...</td>\n",
       "      <td>06</td>\n",
       "      <td>N100ALLUVL</td>\n",
       "      <td>112NWMN</td>\n",
       "      <td>NaN</td>\n",
       "      <td>53.0</td>\n",
       "      <td>NaN</td>\n",
       "      <td>M</td>\n",
       "      <td>1952-02-01</td>\n",
       "      <td>2015-08-12</td>\n",
       "      <td>3431</td>\n",
       "    </tr>\n",
       "    <tr>\n",
       "      <th>1</th>\n",
       "      <td>USGS</td>\n",
       "      <td>390006095132301</td>\n",
       "      <td>GW</td>\n",
       "      <td>1999-01-10</td>\n",
       "      <td>1999</td>\n",
       "      <td>NaN</td>\n",
       "      <td>NaN</td>\n",
       "      <td>NaN</td>\n",
       "      <td>814.33</td>\n",
       "      <td>NGVD29</td>\n",
       "      <td>...</td>\n",
       "      <td>06</td>\n",
       "      <td>N100ALLUVL</td>\n",
       "      <td>112NWMN</td>\n",
       "      <td>NaN</td>\n",
       "      <td>53.0</td>\n",
       "      <td>NaN</td>\n",
       "      <td>M</td>\n",
       "      <td>1952-02-01</td>\n",
       "      <td>2015-08-12</td>\n",
       "      <td>3431</td>\n",
       "    </tr>\n",
       "  </tbody>\n",
       "</table>\n",
       "<p>2 rows × 42 columns</p>\n",
       "</div>"
      ],
      "text/plain": [
       "  agency_cd_x          site_no site_tp_cd_x      lev_dt  Years lev_tm  \\\n",
       "0        USGS  390006095132301           GW  1999-01-05   1999    NaN   \n",
       "1        USGS  390006095132301           GW  1999-01-10   1999    NaN   \n",
       "\n",
       "  lev_tz_cd lev_va  sl_lev_va sl_datum_cd     ...     basin_cd nat_aqfr_cd  \\\n",
       "0       NaN    NaN     814.50      NGVD29     ...           06  N100ALLUVL   \n",
       "1       NaN    NaN     814.33      NGVD29     ...           06  N100ALLUVL   \n",
       "\n",
       "   aqfr_cd aqfr_type_cd well_depth_va hole_depth_va depth_src_cd  \\\n",
       "0  112NWMN          NaN          53.0           NaN            M   \n",
       "1  112NWMN          NaN          53.0           NaN            M   \n",
       "\n",
       "  gw_begin_date gw_end_date gw_count_nu  \n",
       "0    1952-02-01  2015-08-12        3431  \n",
       "1    1952-02-01  2015-08-12        3431  \n",
       "\n",
       "[2 rows x 42 columns]"
      ]
     },
     "execution_count": 8,
     "metadata": {},
     "output_type": "execute_result"
    }
   ],
   "source": [
    "dftotal_Lawrence = pd.merge(wellData_Lawrence, wellInfo_Lawrence, on=\"site_no\", how='outer')\n",
    "dftotal_Lawrence.head(2)"
   ]
  },
  {
   "cell_type": "markdown",
   "metadata": {},
   "source": [
    "## Next step: Well depth in terms of ft below surface\n",
    "* Original file gives depths in ft above NGDV29\n",
    "* Second file gives the altitude of the well\n",
    "* Alt of well - gw level above datum = depth in ft below surface"
   ]
  },
  {
   "cell_type": "code",
   "execution_count": 9,
   "metadata": {},
   "outputs": [
    {
     "data": {
      "text/html": [
       "<div>\n",
       "<style scoped>\n",
       "    .dataframe tbody tr th:only-of-type {\n",
       "        vertical-align: middle;\n",
       "    }\n",
       "\n",
       "    .dataframe tbody tr th {\n",
       "        vertical-align: top;\n",
       "    }\n",
       "\n",
       "    .dataframe thead th {\n",
       "        text-align: right;\n",
       "    }\n",
       "</style>\n",
       "<table border=\"1\" class=\"dataframe\">\n",
       "  <thead>\n",
       "    <tr style=\"text-align: right;\">\n",
       "      <th></th>\n",
       "      <th>agency_cd_x</th>\n",
       "      <th>site_no</th>\n",
       "      <th>site_tp_cd_x</th>\n",
       "      <th>lev_dt</th>\n",
       "      <th>Years</th>\n",
       "      <th>lev_tm</th>\n",
       "      <th>lev_tz_cd</th>\n",
       "      <th>lev_va</th>\n",
       "      <th>sl_lev_va</th>\n",
       "      <th>depth_va_from_surface</th>\n",
       "      <th>...</th>\n",
       "      <th>basin_cd</th>\n",
       "      <th>nat_aqfr_cd</th>\n",
       "      <th>aqfr_cd</th>\n",
       "      <th>aqfr_type_cd</th>\n",
       "      <th>well_depth_va</th>\n",
       "      <th>hole_depth_va</th>\n",
       "      <th>depth_src_cd</th>\n",
       "      <th>gw_begin_date</th>\n",
       "      <th>gw_end_date</th>\n",
       "      <th>gw_count_nu</th>\n",
       "    </tr>\n",
       "  </thead>\n",
       "  <tbody>\n",
       "    <tr>\n",
       "      <th>0</th>\n",
       "      <td>USGS</td>\n",
       "      <td>390006095132301</td>\n",
       "      <td>GW</td>\n",
       "      <td>1999-01-05</td>\n",
       "      <td>1999</td>\n",
       "      <td>NaN</td>\n",
       "      <td>NaN</td>\n",
       "      <td>NaN</td>\n",
       "      <td>814.50</td>\n",
       "      <td>-15.79</td>\n",
       "      <td>...</td>\n",
       "      <td>06</td>\n",
       "      <td>N100ALLUVL</td>\n",
       "      <td>112NWMN</td>\n",
       "      <td>NaN</td>\n",
       "      <td>53.0</td>\n",
       "      <td>NaN</td>\n",
       "      <td>M</td>\n",
       "      <td>1952-02-01</td>\n",
       "      <td>2015-08-12</td>\n",
       "      <td>3431</td>\n",
       "    </tr>\n",
       "    <tr>\n",
       "      <th>1</th>\n",
       "      <td>USGS</td>\n",
       "      <td>390006095132301</td>\n",
       "      <td>GW</td>\n",
       "      <td>1999-01-10</td>\n",
       "      <td>1999</td>\n",
       "      <td>NaN</td>\n",
       "      <td>NaN</td>\n",
       "      <td>NaN</td>\n",
       "      <td>814.33</td>\n",
       "      <td>-15.96</td>\n",
       "      <td>...</td>\n",
       "      <td>06</td>\n",
       "      <td>N100ALLUVL</td>\n",
       "      <td>112NWMN</td>\n",
       "      <td>NaN</td>\n",
       "      <td>53.0</td>\n",
       "      <td>NaN</td>\n",
       "      <td>M</td>\n",
       "      <td>1952-02-01</td>\n",
       "      <td>2015-08-12</td>\n",
       "      <td>3431</td>\n",
       "    </tr>\n",
       "    <tr>\n",
       "      <th>2</th>\n",
       "      <td>USGS</td>\n",
       "      <td>390006095132301</td>\n",
       "      <td>GW</td>\n",
       "      <td>1999-01-15</td>\n",
       "      <td>1999</td>\n",
       "      <td>NaN</td>\n",
       "      <td>NaN</td>\n",
       "      <td>NaN</td>\n",
       "      <td>814.20</td>\n",
       "      <td>-16.09</td>\n",
       "      <td>...</td>\n",
       "      <td>06</td>\n",
       "      <td>N100ALLUVL</td>\n",
       "      <td>112NWMN</td>\n",
       "      <td>NaN</td>\n",
       "      <td>53.0</td>\n",
       "      <td>NaN</td>\n",
       "      <td>M</td>\n",
       "      <td>1952-02-01</td>\n",
       "      <td>2015-08-12</td>\n",
       "      <td>3431</td>\n",
       "    </tr>\n",
       "    <tr>\n",
       "      <th>3</th>\n",
       "      <td>USGS</td>\n",
       "      <td>390006095132301</td>\n",
       "      <td>GW</td>\n",
       "      <td>1999-01-20</td>\n",
       "      <td>1999</td>\n",
       "      <td>NaN</td>\n",
       "      <td>NaN</td>\n",
       "      <td>NaN</td>\n",
       "      <td>814.11</td>\n",
       "      <td>-16.18</td>\n",
       "      <td>...</td>\n",
       "      <td>06</td>\n",
       "      <td>N100ALLUVL</td>\n",
       "      <td>112NWMN</td>\n",
       "      <td>NaN</td>\n",
       "      <td>53.0</td>\n",
       "      <td>NaN</td>\n",
       "      <td>M</td>\n",
       "      <td>1952-02-01</td>\n",
       "      <td>2015-08-12</td>\n",
       "      <td>3431</td>\n",
       "    </tr>\n",
       "    <tr>\n",
       "      <th>4</th>\n",
       "      <td>USGS</td>\n",
       "      <td>390006095132301</td>\n",
       "      <td>GW</td>\n",
       "      <td>1999-01-25</td>\n",
       "      <td>1999</td>\n",
       "      <td>NaN</td>\n",
       "      <td>NaN</td>\n",
       "      <td>NaN</td>\n",
       "      <td>813.95</td>\n",
       "      <td>-16.34</td>\n",
       "      <td>...</td>\n",
       "      <td>06</td>\n",
       "      <td>N100ALLUVL</td>\n",
       "      <td>112NWMN</td>\n",
       "      <td>NaN</td>\n",
       "      <td>53.0</td>\n",
       "      <td>NaN</td>\n",
       "      <td>M</td>\n",
       "      <td>1952-02-01</td>\n",
       "      <td>2015-08-12</td>\n",
       "      <td>3431</td>\n",
       "    </tr>\n",
       "  </tbody>\n",
       "</table>\n",
       "<p>5 rows × 43 columns</p>\n",
       "</div>"
      ],
      "text/plain": [
       "  agency_cd_x          site_no site_tp_cd_x      lev_dt  Years lev_tm  \\\n",
       "0        USGS  390006095132301           GW  1999-01-05   1999    NaN   \n",
       "1        USGS  390006095132301           GW  1999-01-10   1999    NaN   \n",
       "2        USGS  390006095132301           GW  1999-01-15   1999    NaN   \n",
       "3        USGS  390006095132301           GW  1999-01-20   1999    NaN   \n",
       "4        USGS  390006095132301           GW  1999-01-25   1999    NaN   \n",
       "\n",
       "  lev_tz_cd lev_va  sl_lev_va  depth_va_from_surface     ...     basin_cd  \\\n",
       "0       NaN    NaN     814.50                 -15.79     ...           06   \n",
       "1       NaN    NaN     814.33                 -15.96     ...           06   \n",
       "2       NaN    NaN     814.20                 -16.09     ...           06   \n",
       "3       NaN    NaN     814.11                 -16.18     ...           06   \n",
       "4       NaN    NaN     813.95                 -16.34     ...           06   \n",
       "\n",
       "  nat_aqfr_cd  aqfr_cd aqfr_type_cd well_depth_va hole_depth_va depth_src_cd  \\\n",
       "0  N100ALLUVL  112NWMN          NaN          53.0           NaN            M   \n",
       "1  N100ALLUVL  112NWMN          NaN          53.0           NaN            M   \n",
       "2  N100ALLUVL  112NWMN          NaN          53.0           NaN            M   \n",
       "3  N100ALLUVL  112NWMN          NaN          53.0           NaN            M   \n",
       "4  N100ALLUVL  112NWMN          NaN          53.0           NaN            M   \n",
       "\n",
       "  gw_begin_date gw_end_date gw_count_nu  \n",
       "0    1952-02-01  2015-08-12        3431  \n",
       "1    1952-02-01  2015-08-12        3431  \n",
       "2    1952-02-01  2015-08-12        3431  \n",
       "3    1952-02-01  2015-08-12        3431  \n",
       "4    1952-02-01  2015-08-12        3431  \n",
       "\n",
       "[5 rows x 43 columns]"
      ]
     },
     "execution_count": 9,
     "metadata": {},
     "output_type": "execute_result"
    }
   ],
   "source": [
    "depthfromSurface_Lawrence = (dftotal_Lawrence.alt_va - dftotal_Lawrence.sl_lev_va)\n",
    "\n",
    "#adding that value into df\n",
    "dftotal_Lawrence.insert(9, \"depth_va_from_surface\", -depthfromSurface_Lawrence)  \n",
    "dftotal_Lawrence.head(5)"
   ]
  },
  {
   "cell_type": "markdown",
   "metadata": {},
   "source": [
    "* First goal: avg gw levels per year for individual wells"
   ]
  },
  {
   "cell_type": "code",
   "execution_count": 10,
   "metadata": {},
   "outputs": [
    {
     "data": {
      "text/plain": [
       "Text(0.5, 1.0, 'Average Well Datum Value per Year')"
      ]
     },
     "execution_count": 10,
     "metadata": {},
     "output_type": "execute_result"
    },
    {
     "data": {
      "image/png": "[encoded data removed]",
      "text/plain": [
       "<Figure size 720x432 with 1 Axes>"
      ]
     },
     "metadata": {
      "needs_background": "light"
     },
     "output_type": "display_data"
    }
   ],
   "source": [
    "ax1 = dftotal_Lawrence[['depth_va_from_surface', 'Years']].boxplot(by='Years', figsize=(10, 6))\n",
    "ax1.set_xlabel('Years')\n",
    "ax1.set_ylabel('Depth (below surface)')\n",
    "ax1.set_title('Average Well Datum Value per Year')"
   ]
  },
  {
   "cell_type": "code",
   "execution_count": 11,
   "metadata": {},
   "outputs": [
    {
     "data": {
      "text/html": [
       "<div>\n",
       "<style scoped>\n",
       "    .dataframe tbody tr th:only-of-type {\n",
       "        vertical-align: middle;\n",
       "    }\n",
       "\n",
       "    .dataframe tbody tr th {\n",
       "        vertical-align: top;\n",
       "    }\n",
       "\n",
       "    .dataframe thead th {\n",
       "        text-align: right;\n",
       "    }\n",
       "</style>\n",
       "<table border=\"1\" class=\"dataframe\">\n",
       "  <thead>\n",
       "    <tr style=\"text-align: right;\">\n",
       "      <th></th>\n",
       "      <th>Years</th>\n",
       "      <th>sl_lev_va</th>\n",
       "      <th>depth_va_from_surface</th>\n",
       "      <th>alt_va</th>\n",
       "    </tr>\n",
       "  </thead>\n",
       "  <tbody>\n",
       "    <tr>\n",
       "      <th>0</th>\n",
       "      <td>1999</td>\n",
       "      <td>813.259518</td>\n",
       "      <td>-17.030482</td>\n",
       "      <td>830.29</td>\n",
       "    </tr>\n",
       "    <tr>\n",
       "      <th>1</th>\n",
       "      <td>2000</td>\n",
       "      <td>809.583016</td>\n",
       "      <td>-20.706984</td>\n",
       "      <td>830.29</td>\n",
       "    </tr>\n",
       "    <tr>\n",
       "      <th>2</th>\n",
       "      <td>2001</td>\n",
       "      <td>810.633846</td>\n",
       "      <td>-19.656154</td>\n",
       "      <td>830.29</td>\n",
       "    </tr>\n",
       "    <tr>\n",
       "      <th>3</th>\n",
       "      <td>2002</td>\n",
       "      <td>808.350909</td>\n",
       "      <td>-21.939091</td>\n",
       "      <td>830.29</td>\n",
       "    </tr>\n",
       "    <tr>\n",
       "      <th>4</th>\n",
       "      <td>2003</td>\n",
       "      <td>806.394286</td>\n",
       "      <td>-23.895714</td>\n",
       "      <td>830.29</td>\n",
       "    </tr>\n",
       "  </tbody>\n",
       "</table>\n",
       "</div>"
      ],
      "text/plain": [
       "   Years   sl_lev_va  depth_va_from_surface  alt_va\n",
       "0   1999  813.259518             -17.030482  830.29\n",
       "1   2000  809.583016             -20.706984  830.29\n",
       "2   2001  810.633846             -19.656154  830.29\n",
       "3   2002  808.350909             -21.939091  830.29\n",
       "4   2003  806.394286             -23.895714  830.29"
      ]
     },
     "execution_count": 11,
     "metadata": {},
     "output_type": "execute_result"
    }
   ],
   "source": [
    "df_years_Lawrence = dftotal_Lawrence.groupby('Years', as_index=False).mean()\n",
    "df_years_Lawrence.head(5) "
   ]
  },
  {
   "cell_type": "markdown",
   "metadata": {},
   "source": [
    "## Importing and merging data for other wells (Ft. Riley and Hays Alluvial Aquifers)"
   ]
  },
  {
   "cell_type": "code",
   "execution_count": 12,
   "metadata": {},
   "outputs": [],
   "source": [
    "file_Riley = \"/Users/brewaterman/Desktop/USGS Files/gwlevels706.txt\"\n",
    "df = pd.read_csv(file_Riley, sep='\\t', comment='#')\n",
    "wellData_Riley = df.drop(0)"
   ]
  },
  {
   "cell_type": "code",
   "execution_count": 13,
   "metadata": {},
   "outputs": [],
   "source": [
    "#Changing data types\n",
    "wellData_Riley = wellData_Riley.astype({\"sl_lev_va\" : float})\n",
    "\n",
    "level_date_Riley = pd.to_datetime(wellData_Riley[\"lev_dt\"])\n",
    "\n",
    "#only need years\n",
    "level_date_Riley = level_date_Riley.dt.year \n",
    "\n",
    "#adding years back into dataframe\n",
    "wellData_Riley.insert(4, \"Years\", level_date_Riley)"
   ]
  },
  {
   "cell_type": "code",
   "execution_count": 14,
   "metadata": {},
   "outputs": [],
   "source": [
    "file2 = \"/Users/brewaterman/Desktop/USGS Files/Riley2\"\n",
    "df2 = pd.read_csv(file2, sep = \"\\t\", comment = \"#\")\n",
    "wellInfo_Riley = df2.drop(0)\n",
    "\n",
    "#changing data type\n",
    "wellInfo_Riley = wellInfo_Riley.astype({\"alt_va\": float})\n",
    "\n",
    "#merging the info data file with the well level data file\n",
    "dftotal_Riley = pd.merge(wellData_Riley, wellInfo_Riley, on=\"site_no\", how='outer')"
   ]
  },
  {
   "cell_type": "code",
   "execution_count": 15,
   "metadata": {},
   "outputs": [],
   "source": [
    "#calculating depth from surface for Riley well\n",
    "depthfromSurface_Riley = (dftotal_Riley.alt_va - dftotal_Riley.sl_lev_va)\n",
    "\n",
    "#adding that value into df\n",
    "dftotal_Riley.insert(9, \"depth_va_from_surface\", -depthfromSurface_Riley)  "
   ]
  },
  {
   "cell_type": "code",
   "execution_count": 16,
   "metadata": {},
   "outputs": [],
   "source": [
    "#Making new data frame for Riley Well\n",
    "df_years_Riley = dftotal_Riley.groupby('Years', as_index=False).mean()"
   ]
  },
  {
   "cell_type": "code",
   "execution_count": 17,
   "metadata": {},
   "outputs": [
    {
     "data": {
      "text/plain": [
       "Text(0.5, 1.0, 'Average Well Datum Value per Year')"
      ]
     },
     "execution_count": 17,
     "metadata": {},
     "output_type": "execute_result"
    },
    {
     "data": {
      "image/png": "[encoded data removed]",
      "text/plain": [
       "<Figure size 720x432 with 1 Axes>"
      ]
     },
     "metadata": {
      "needs_background": "light"
     },
     "output_type": "display_data"
    }
   ],
   "source": [
    "ax1 = dftotal_Riley[['depth_va_from_surface', 'Years']].boxplot(by='Years', figsize=(10, 6))\n",
    "ax1.set_xlabel('Years')\n",
    "ax1.set_ylabel('Depth (above datum)')\n",
    "ax1.set_title('Average Well Datum Value per Year')"
   ]
  },
  {
   "cell_type": "markdown",
   "metadata": {},
   "source": [
    "### Adding third well (Hays)"
   ]
  },
  {
   "cell_type": "code",
   "execution_count": 18,
   "metadata": {},
   "outputs": [],
   "source": [
    "file_Hays = \"/Users/brewaterman/Desktop/USGS Files/gwlevelst17.txt\"\n",
    "df3 = pd.read_csv(file_Hays, sep='\\t', comment='#')\n",
    "wellData_Hays = df3.drop(0)"
   ]
  },
  {
   "cell_type": "code",
   "execution_count": 19,
   "metadata": {},
   "outputs": [],
   "source": [
    "#changing data types\n",
    "wellData_Hays = wellData_Hays.astype({\"sl_lev_va\" : float})\n",
    "\n",
    "level_date_Hays = pd.to_datetime(wellData_Hays[\"lev_dt\"])\n",
    "\n",
    "#only need years\n",
    "level_date_Hays = level_date_Hays.dt.year \n",
    "\n",
    "#adding years back to dataframe\n",
    "wellData_Hays.insert(4, \"Years\", level_date_Hays)"
   ]
  },
  {
   "cell_type": "code",
   "execution_count": 20,
   "metadata": {},
   "outputs": [],
   "source": [
    "#importing data file with info for Hays well\n",
    "file3 = \"/Users/brewaterman/Desktop/USGS Files/hayst17\"\n",
    "df4 = pd.read_csv(file3, sep = \"\\t\", comment = \"#\")\n",
    "wellInfo_Hays = df4.drop(0)"
   ]
  },
  {
   "cell_type": "code",
   "execution_count": 21,
   "metadata": {},
   "outputs": [],
   "source": [
    "#Changing data types\n",
    "wellInfo_Hays = wellInfo_Hays.astype({\"alt_va\": float})\n",
    "\n",
    "#Merging well info data with gw level data\n",
    "dftotal_Hays = pd.merge(wellData_Hays, wellInfo_Hays, on=\"site_no\", how='outer')"
   ]
  },
  {
   "cell_type": "code",
   "execution_count": 22,
   "metadata": {},
   "outputs": [],
   "source": [
    "#Calculating well level as depth from surface\n",
    "depthfromSurface_Hays = (dftotal_Hays.alt_va - dftotal_Hays.sl_lev_va)\n",
    "\n",
    "#adding that value into df\n",
    "dftotal_Hays.insert(9, \"depth_va_from_surface\", -depthfromSurface_Hays)  "
   ]
  },
  {
   "cell_type": "code",
   "execution_count": 23,
   "metadata": {},
   "outputs": [],
   "source": [
    "#Making new dataframe for Hays well\n",
    "df_years_Hays = dftotal_Hays.groupby('Years', as_index=False).mean()"
   ]
  },
  {
   "cell_type": "code",
   "execution_count": 24,
   "metadata": {},
   "outputs": [
    {
     "data": {
      "text/plain": [
       "Text(0.5, 1.0, 'Average Well Datum Value per Year')"
      ]
     },
     "execution_count": 24,
     "metadata": {},
     "output_type": "execute_result"
    },
    {
     "data": {
      "image/png": "[encoded data removed]",
      "text/plain": [
       "<Figure size 720x432 with 1 Axes>"
      ]
     },
     "metadata": {
      "needs_background": "light"
     },
     "output_type": "display_data"
    }
   ],
   "source": [
    "ax1 = dftotal_Hays[['depth_va_from_surface', 'Years']].boxplot(by='Years', figsize=(10, 6))\n",
    "ax1.set_xlabel('Years')\n",
    "ax1.set_ylabel('Depth (above datum)')\n",
    "ax1.set_title('Average Well Datum Value per Year')"
   ]
  },
  {
   "cell_type": "markdown",
   "metadata": {},
   "source": [
    "## Merging all three of new dataframes"
   ]
  },
  {
   "cell_type": "code",
   "execution_count": 25,
   "metadata": {},
   "outputs": [
    {
     "data": {
      "text/html": [
       "<div>\n",
       "<style scoped>\n",
       "    .dataframe tbody tr th:only-of-type {\n",
       "        vertical-align: middle;\n",
       "    }\n",
       "\n",
       "    .dataframe tbody tr th {\n",
       "        vertical-align: top;\n",
       "    }\n",
       "\n",
       "    .dataframe thead th {\n",
       "        text-align: right;\n",
       "    }\n",
       "</style>\n",
       "<table border=\"1\" class=\"dataframe\">\n",
       "  <thead>\n",
       "    <tr style=\"text-align: right;\">\n",
       "      <th></th>\n",
       "      <th>Years</th>\n",
       "      <th>sl_lev_va_x</th>\n",
       "      <th>depth_va_from_surface_x</th>\n",
       "      <th>alt_va_x</th>\n",
       "      <th>sl_lev_va_y</th>\n",
       "      <th>depth_va_from_surface_y</th>\n",
       "      <th>alt_va_y</th>\n",
       "      <th>sl_lev_va</th>\n",
       "      <th>depth_va_from_surface</th>\n",
       "      <th>alt_va</th>\n",
       "    </tr>\n",
       "  </thead>\n",
       "  <tbody>\n",
       "    <tr>\n",
       "      <th>6</th>\n",
       "      <td>2005</td>\n",
       "      <td>810.997500</td>\n",
       "      <td>-19.292500</td>\n",
       "      <td>830.29</td>\n",
       "      <td>1144.680000</td>\n",
       "      <td>-14.040000</td>\n",
       "      <td>1158.72</td>\n",
       "      <td>1889.493846</td>\n",
       "      <td>-12.376154</td>\n",
       "      <td>1901.87</td>\n",
       "    </tr>\n",
       "    <tr>\n",
       "      <th>7</th>\n",
       "      <td>2006</td>\n",
       "      <td>809.338889</td>\n",
       "      <td>-20.951111</td>\n",
       "      <td>830.29</td>\n",
       "      <td>1143.735000</td>\n",
       "      <td>-14.985000</td>\n",
       "      <td>1158.72</td>\n",
       "      <td>1889.867500</td>\n",
       "      <td>-12.002500</td>\n",
       "      <td>1901.87</td>\n",
       "    </tr>\n",
       "    <tr>\n",
       "      <th>8</th>\n",
       "      <td>2007</td>\n",
       "      <td>809.440000</td>\n",
       "      <td>-20.850000</td>\n",
       "      <td>830.29</td>\n",
       "      <td>1145.932000</td>\n",
       "      <td>-12.788000</td>\n",
       "      <td>1158.72</td>\n",
       "      <td>1890.852000</td>\n",
       "      <td>-11.018000</td>\n",
       "      <td>1901.87</td>\n",
       "    </tr>\n",
       "    <tr>\n",
       "      <th>9</th>\n",
       "      <td>2008</td>\n",
       "      <td>811.379000</td>\n",
       "      <td>-18.911000</td>\n",
       "      <td>830.29</td>\n",
       "      <td>1149.846667</td>\n",
       "      <td>-8.873333</td>\n",
       "      <td>1158.72</td>\n",
       "      <td>1888.838333</td>\n",
       "      <td>-13.031667</td>\n",
       "      <td>1901.87</td>\n",
       "    </tr>\n",
       "    <tr>\n",
       "      <th>10</th>\n",
       "      <td>2009</td>\n",
       "      <td>812.318000</td>\n",
       "      <td>-17.972000</td>\n",
       "      <td>830.29</td>\n",
       "      <td>1147.458571</td>\n",
       "      <td>-11.261429</td>\n",
       "      <td>1158.72</td>\n",
       "      <td>1890.553333</td>\n",
       "      <td>-11.316667</td>\n",
       "      <td>1901.87</td>\n",
       "    </tr>\n",
       "    <tr>\n",
       "      <th>11</th>\n",
       "      <td>2010</td>\n",
       "      <td>812.147143</td>\n",
       "      <td>-18.142857</td>\n",
       "      <td>830.29</td>\n",
       "      <td>1149.157500</td>\n",
       "      <td>-9.562500</td>\n",
       "      <td>1158.72</td>\n",
       "      <td>1890.824286</td>\n",
       "      <td>-11.045714</td>\n",
       "      <td>1901.87</td>\n",
       "    </tr>\n",
       "    <tr>\n",
       "      <th>12</th>\n",
       "      <td>2011</td>\n",
       "      <td>809.852500</td>\n",
       "      <td>-20.437500</td>\n",
       "      <td>830.29</td>\n",
       "      <td>1144.973333</td>\n",
       "      <td>-13.746667</td>\n",
       "      <td>1158.72</td>\n",
       "      <td>1889.960000</td>\n",
       "      <td>-11.910000</td>\n",
       "      <td>1901.87</td>\n",
       "    </tr>\n",
       "    <tr>\n",
       "      <th>13</th>\n",
       "      <td>2012</td>\n",
       "      <td>807.195000</td>\n",
       "      <td>-23.095000</td>\n",
       "      <td>830.29</td>\n",
       "      <td>1146.052000</td>\n",
       "      <td>-12.668000</td>\n",
       "      <td>1158.72</td>\n",
       "      <td>1886.855000</td>\n",
       "      <td>-15.015000</td>\n",
       "      <td>1901.87</td>\n",
       "    </tr>\n",
       "    <tr>\n",
       "      <th>14</th>\n",
       "      <td>2013</td>\n",
       "      <td>806.076000</td>\n",
       "      <td>-24.214000</td>\n",
       "      <td>830.29</td>\n",
       "      <td>1144.016000</td>\n",
       "      <td>-14.704000</td>\n",
       "      <td>1158.72</td>\n",
       "      <td>1887.123750</td>\n",
       "      <td>-14.746250</td>\n",
       "      <td>1901.87</td>\n",
       "    </tr>\n",
       "    <tr>\n",
       "      <th>15</th>\n",
       "      <td>2014</td>\n",
       "      <td>807.554286</td>\n",
       "      <td>-22.735714</td>\n",
       "      <td>830.29</td>\n",
       "      <td>1144.445000</td>\n",
       "      <td>-14.275000</td>\n",
       "      <td>1158.72</td>\n",
       "      <td>1886.984000</td>\n",
       "      <td>-14.886000</td>\n",
       "      <td>1901.87</td>\n",
       "    </tr>\n",
       "    <tr>\n",
       "      <th>16</th>\n",
       "      <td>2015</td>\n",
       "      <td>809.247500</td>\n",
       "      <td>-21.042500</td>\n",
       "      <td>830.29</td>\n",
       "      <td>1145.540000</td>\n",
       "      <td>-13.180000</td>\n",
       "      <td>1158.72</td>\n",
       "      <td>1888.225000</td>\n",
       "      <td>-13.645000</td>\n",
       "      <td>1901.87</td>\n",
       "    </tr>\n",
       "  </tbody>\n",
       "</table>\n",
       "</div>"
      ],
      "text/plain": [
       "    Years  sl_lev_va_x  depth_va_from_surface_x  alt_va_x  sl_lev_va_y  \\\n",
       "6    2005   810.997500               -19.292500    830.29  1144.680000   \n",
       "7    2006   809.338889               -20.951111    830.29  1143.735000   \n",
       "8    2007   809.440000               -20.850000    830.29  1145.932000   \n",
       "9    2008   811.379000               -18.911000    830.29  1149.846667   \n",
       "10   2009   812.318000               -17.972000    830.29  1147.458571   \n",
       "11   2010   812.147143               -18.142857    830.29  1149.157500   \n",
       "12   2011   809.852500               -20.437500    830.29  1144.973333   \n",
       "13   2012   807.195000               -23.095000    830.29  1146.052000   \n",
       "14   2013   806.076000               -24.214000    830.29  1144.016000   \n",
       "15   2014   807.554286               -22.735714    830.29  1144.445000   \n",
       "16   2015   809.247500               -21.042500    830.29  1145.540000   \n",
       "\n",
       "    depth_va_from_surface_y  alt_va_y    sl_lev_va  depth_va_from_surface  \\\n",
       "6                -14.040000   1158.72  1889.493846             -12.376154   \n",
       "7                -14.985000   1158.72  1889.867500             -12.002500   \n",
       "8                -12.788000   1158.72  1890.852000             -11.018000   \n",
       "9                 -8.873333   1158.72  1888.838333             -13.031667   \n",
       "10               -11.261429   1158.72  1890.553333             -11.316667   \n",
       "11                -9.562500   1158.72  1890.824286             -11.045714   \n",
       "12               -13.746667   1158.72  1889.960000             -11.910000   \n",
       "13               -12.668000   1158.72  1886.855000             -15.015000   \n",
       "14               -14.704000   1158.72  1887.123750             -14.746250   \n",
       "15               -14.275000   1158.72  1886.984000             -14.886000   \n",
       "16               -13.180000   1158.72  1888.225000             -13.645000   \n",
       "\n",
       "     alt_va  \n",
       "6   1901.87  \n",
       "7   1901.87  \n",
       "8   1901.87  \n",
       "9   1901.87  \n",
       "10  1901.87  \n",
       "11  1901.87  \n",
       "12  1901.87  \n",
       "13  1901.87  \n",
       "14  1901.87  \n",
       "15  1901.87  \n",
       "16  1901.87  "
      ]
     },
     "execution_count": 25,
     "metadata": {},
     "output_type": "execute_result"
    }
   ],
   "source": [
    "df = pd.merge(df_years_Lawrence, df_years_Riley, on=\"Years\", how='outer')\n",
    "dftot = pd.merge(df, df_years_Hays, on=\"Years\", how='outer')\n",
    "\n",
    "#droping Nans to compare same years (2005 - 2015)\n",
    "df_final = dftot.dropna()\n",
    "df_final"
   ]
  },
  {
   "cell_type": "markdown",
   "metadata": {},
   "source": [
    "### GW Level Visualization \n",
    "   * New df has all wells to create visuals for comparing multiple wells at once"
   ]
  },
  {
   "cell_type": "code",
   "execution_count": 26,
   "metadata": {},
   "outputs": [
    {
     "data": {
      "image/png": "[encoded data removed]",
      "text/plain": [
       "<Figure size 576x360 with 1 Axes>"
      ]
     },
     "metadata": {
      "needs_background": "light"
     },
     "output_type": "display_data"
    }
   ],
   "source": [
    "plt.figure(figsize =(8,5))\n",
    "plt.plot(df_final['Years'],df_final['sl_lev_va'], '-ro')\n",
    "plt.plot(df_final['Years'],df_final['sl_lev_va_y'], '-go')\n",
    "plt.plot(df_final['Years'],df_final['sl_lev_va_x'], '-bo')\n",
    "\n",
    "plt.plot(df_final['Years'],df_final['alt_va_x'], '--k')\n",
    "plt.plot(df_final['Years'],df_final['alt_va_y'], '--k')\n",
    "plt.plot(df_final['Years'],df_final['alt_va'], '--k')\n",
    "\n",
    "plt.legend(loc=\"best\")\n",
    "plt.legend(('Hays Well', 'Riley Well', 'Lawrence Airport Well', 'Well surface elev.'),\n",
    "           shadow=True, loc=(0.01, 0.48), handlelength=1.5, fontsize=12)\n",
    "\n",
    "plt.xlabel(\"Years\")\n",
    "plt.ylabel(\"Depth above datum\")\n",
    "\n",
    "\n",
    "plt.title(\"Average GW levels per Year for Lawrence, Riley and Hays Wells\",fontsize= 14)\n",
    "plt.savefig('lawrence.png')\n",
    "plt.show()"
   ]
  },
  {
   "cell_type": "code",
   "execution_count": 38,
   "metadata": {},
   "outputs": [
    {
     "data": {
      "image/png": "[encoded data removed]",
      "text/plain": [
       "<Figure size 576x360 with 2 Axes>"
      ]
     },
     "metadata": {
      "needs_background": "light"
     },
     "output_type": "display_data"
    }
   ],
   "source": [
    "plt.figure(figsize =(8,5))\n",
    "\n",
    "ax1 = plt.subplot()\n",
    "ax1.plot(df_final['Years'],df_final['depth_va_from_surface_x'], 'go', label =\"Lawrence Well\")\n",
    "\n",
    "ax2 = ax1.twinx() #so they share\n",
    "ax2.plot(df_final['Years'],df_final['sl_lev_va_x'], '-g', label =\"Lawrence Well\")\n",
    "\n",
    "\n",
    "plt.legend()\n",
    "plt.legend(loc='best')\n",
    "ax1.set_xlabel(\"Years\")\n",
    "ax1.set_ylabel(\"Depth from land surface\")\n",
    "ax2.set_ylabel(\"Depth above NGDV29\")\n",
    "\n",
    "plt.title(\"Average GW levels per Year for Lawrence, Riley and Hays Wells\")\n",
    "plt.savefig('fthayst17.png')\n",
    "plt.show()\n",
    "\n"
   ]
  },
  {
   "cell_type": "code",
   "execution_count": null,
   "metadata": {},
   "outputs": [],
   "source": [
    "plt.figure(figsize =(8,5))\n",
    "\n",
    "plt.plot(df_final['Years'],df_final['alt_va_x'], '--k', label =\"Surface elev.\")\n",
    "plt.plot(df_final['Years'],df_final['sl_lev_va_x'], '-bo', label =\"Lawrence Airport Well\")\n",
    "\n",
    "\n",
    "\n",
    "plt.legend(loc = 'best')\n",
    "plt.legend(('Well surface elev.', 'Lawrence Airport Well'),\n",
    "           shadow=True, loc=(0.01, 0.48), handlelength=1.5, fontsize=12)\n",
    "plt.xlabel(\"Years\")\n",
    "plt.ylabel(\"Depth above NGDV29\")\n",
    "\n",
    "plt.title(\"Average GW levels per Year for Lawrence, Riley and Hays Wells\", fontsize= 14)\n",
    "plt.savefig('lawrence.png')\n",
    "plt.show()"
   ]
  },
  {
   "cell_type": "code",
   "execution_count": null,
   "metadata": {},
   "outputs": [],
   "source": [
    "plt.figure(figsize =(8,5))\n",
    "\n",
    "plt.plot(df_final['Years'],df_final['alt_va_y'], '--k', label =\"Surface elev.\")\n",
    "plt.plot(df_final['Years'],df_final['sl_lev_va_y'], '-ro', label =\"Riley Well\")\n",
    "\n",
    "\n",
    "plt.legend(loc = 'best')\n",
    "plt.legend(('Well surface elev.', 'Riley Well'),\n",
    "           shadow=True, loc=(0.01, 0.48), handlelength=1.5, fontsize=12)\n",
    "plt.xlabel(\"Years\")\n",
    "plt.ylabel(\"Depth above NGDV29\")\n",
    "\n",
    "plt.title(\"Average GW levels per Year for Lawrence, Riley and Hays Wells\", fontsize= 14)\n",
    "plt.savefig('riley.png')\n",
    "plt.show()"
   ]
  },
  {
   "cell_type": "code",
   "execution_count": null,
   "metadata": {},
   "outputs": [],
   "source": [
    "plt.figure(figsize =(8,5))\n",
    "\n",
    "plt.plot(df_final['Years'],df_final['alt_va'], '--k', label =\"Surface elev.\")\n",
    "plt.plot(df_final['Years'],df_final['sl_lev_va'], '-go', label =\"Hays Well\")\n",
    "\n",
    "\n",
    "plt.legend(loc = 'best')\n",
    "plt.legend(('Well surface elev.', 'Hays Well'),\n",
    "           shadow=True, loc=(0.01, 0.48), handlelength=1.5, fontsize=12)\n",
    "plt.xlabel(\"Years\")\n",
    "plt.ylabel(\"Depth above NGDV29\")\n",
    "\n",
    "plt.title(\"Average GW levels per Year for Lawrence, Riley and Hays Wells\", fontsize= 14)\n",
    "plt.savefig('hays.png')\n",
    "plt.show()"
   ]
  },
  {
   "cell_type": "markdown",
   "metadata": {},
   "source": [
    "* Generate gif and save to compare all three wells"
   ]
  },
  {
   "cell_type": "code",
   "execution_count": null,
   "metadata": {},
   "outputs": [],
   "source": [
    "import imageio\n",
    "import glob\n",
    "import os"
   ]
  },
  {
   "cell_type": "code",
   "execution_count": null,
   "metadata": {},
   "outputs": [],
   "source": [
    "imgs = \"/Users/brewaterman/Desktop/GroundwaterVariation\" #assigns variable\n",
    "glob.os.chdir(imgs)"
   ]
  },
  {
   "cell_type": "code",
   "execution_count": null,
   "metadata": {},
   "outputs": [],
   "source": [
    "imgFiles = []\n",
    "for file in glob.glob(\"*.png\"):\n",
    "    print(file)\n",
    "    imgFiles.append(imageio.imread(file))\n",
    "imageio.mimsave('gwvariation.gif', imgFiles, duration = .75)"
   ]
  },
  {
   "cell_type": "markdown",
   "metadata": {},
   "source": [
    "### Results:\n",
    "\n",
    " * GW levels decreased over time for Lawrence and Hays wells, increased for Riley well\n",
    " * Greatest depth from surface was actually at Lawrence (well that is furthest east)\n",
    " \n",
    "### Challenges\n",
    "    \n",
    " * USGS (#'s, having to pull out multiple files to get info about individual well)\n",
    " * Trying to get graphs in 'normal' format \n",
    " * .gif \n",
    " \n",
    "### Benefits of project\n",
    " * Working with USGS/big data\n",
    " * "
   ]
  },
  {
   "cell_type": "markdown",
   "metadata": {},
   "source": []
  }
 ],
 "metadata": {
  "kernelspec": {
   "display_name": "Python 3",
   "language": "python",
   "name": "python3"
  },
  "language_info": {
   "codemirror_mode": {
    "name": "ipython",
    "version": 3
   },
   "file_extension": ".py",
   "mimetype": "text/x-python",
   "name": "python",
   "nbconvert_exporter": "python",
   "pygments_lexer": "ipython3",
   "version": "3.7.1"
  }
 },
 "nbformat": 4,
 "nbformat_minor": 2
}
